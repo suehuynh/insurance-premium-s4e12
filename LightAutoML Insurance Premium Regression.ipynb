{
 "cells": [
  {
   "cell_type": "markdown",
   "id": "bffffc22",
   "metadata": {
    "papermill": {
     "duration": 0.006216,
     "end_time": "2024-12-31T18:13:33.384320",
     "exception": false,
     "start_time": "2024-12-31T18:13:33.378104",
     "status": "completed"
    },
    "tags": []
   },
   "source": [
    "# Kaggle Playground - Insurance Premium Regression"
   ]
  },
  {
   "cell_type": "markdown",
   "id": "45acf255",
   "metadata": {
    "papermill": {
     "duration": 0.005037,
     "end_time": "2024-12-31T18:13:33.394836",
     "exception": false,
     "start_time": "2024-12-31T18:13:33.389799",
     "status": "completed"
    },
    "tags": []
   },
   "source": [
    "## Import libraries"
   ]
  },
  {
   "cell_type": "code",
   "execution_count": 1,
   "id": "10e601fd",
   "metadata": {
    "_cell_guid": "b1076dfc-b9ad-4769-8c92-a6c4dae69d19",
    "_kg_hide-output": true,
    "_uuid": "8f2839f25d086af736a60e9eeb907d3b93b6e0e5",
    "execution": {
     "iopub.execute_input": "2024-12-31T18:13:33.406416Z",
     "iopub.status.busy": "2024-12-31T18:13:33.406098Z",
     "iopub.status.idle": "2024-12-31T18:13:48.661954Z",
     "shell.execute_reply": "2024-12-31T18:13:48.660470Z"
    },
    "papermill": {
     "duration": 15.2639,
     "end_time": "2024-12-31T18:13:48.663876",
     "exception": false,
     "start_time": "2024-12-31T18:13:33.399976",
     "status": "completed"
    },
    "scrolled": true,
    "tags": []
   },
   "outputs": [
    {
     "name": "stdout",
     "output_type": "stream",
     "text": [
      "Collecting lightautoml\r\n",
      "  Downloading lightautoml-0.4.0-py3-none-any.whl.metadata (13 kB)\r\n",
      "Requirement already satisfied: SQLAlchemy>=2.0 in /usr/local/lib/python3.10/dist-packages (from lightautoml) (2.0.35)\r\n",
      "Collecting autowoe>=1.3.3 (from lightautoml)\r\n",
      "  Downloading autowoe-1.3.3-py3-none-any.whl.metadata (2.9 kB)\r\n",
      "Requirement already satisfied: catboost>=0.26.1 in /usr/local/lib/python3.10/dist-packages (from lightautoml) (1.2.7)\r\n",
      "Collecting cmaes (from lightautoml)\r\n",
      "  Downloading cmaes-0.11.1-py3-none-any.whl.metadata (18 kB)\r\n",
      "Requirement already satisfied: holidays in /usr/local/lib/python3.10/dist-packages (from lightautoml) (0.57)\r\n",
      "Requirement already satisfied: jinja2 in /usr/local/lib/python3.10/dist-packages (from lightautoml) (3.1.4)\r\n",
      "Requirement already satisfied: joblib in /usr/local/lib/python3.10/dist-packages (from lightautoml) (1.4.2)\r\n",
      "Collecting json2html (from lightautoml)\r\n",
      "  Downloading json2html-1.3.0.tar.gz (7.0 kB)\r\n",
      "  Preparing metadata (setup.py) ... \u001b[?25l\u001b[?25hdone\r\n",
      "Requirement already satisfied: lightgbm>=2.3 in /usr/local/lib/python3.10/dist-packages (from lightautoml) (4.5.0)\r\n",
      "Requirement already satisfied: networkx in /usr/local/lib/python3.10/dist-packages (from lightautoml) (3.3)\r\n",
      "Requirement already satisfied: numpy<2.0.0 in /usr/local/lib/python3.10/dist-packages (from lightautoml) (1.26.4)\r\n",
      "Requirement already satisfied: optuna in /usr/local/lib/python3.10/dist-packages (from lightautoml) (4.1.0)\r\n",
      "Requirement already satisfied: pandas in /usr/local/lib/python3.10/dist-packages (from lightautoml) (2.1.4)\r\n",
      "Collecting poetry-core<2.0.0,>=1.0.0 (from lightautoml)\r\n",
      "  Downloading poetry_core-1.9.1-py3-none-any.whl.metadata (3.5 kB)\r\n",
      "Requirement already satisfied: pyyaml in /usr/local/lib/python3.10/dist-packages (from lightautoml) (6.0.2)\r\n",
      "Requirement already satisfied: scikit-learn>=0.22 in /usr/local/lib/python3.10/dist-packages (from lightautoml) (1.2.2)\r\n",
      "Requirement already satisfied: scipy in /usr/local/lib/python3.10/dist-packages (from lightautoml) (1.13.1)\r\n",
      "Requirement already satisfied: seaborn in /usr/local/lib/python3.10/dist-packages (from lightautoml) (0.12.2)\r\n",
      "Collecting statsmodels<=0.14.0 (from lightautoml)\r\n",
      "  Downloading statsmodels-0.14.0-cp310-cp310-manylinux_2_17_x86_64.manylinux2014_x86_64.whl.metadata (9.0 kB)\r\n",
      "Requirement already satisfied: torch>=1.9.0 in /usr/local/lib/python3.10/dist-packages (from lightautoml) (2.4.1+cu121)\r\n",
      "Requirement already satisfied: tqdm in /usr/local/lib/python3.10/dist-packages (from lightautoml) (4.66.5)\r\n",
      "Requirement already satisfied: xgboost<3.0.0,>=2.0.0 in /usr/local/lib/python3.10/dist-packages (from lightautoml) (2.0.3)\r\n",
      "Requirement already satisfied: StrEnum<0.5.0,>=0.4.7 in /usr/local/lib/python3.10/dist-packages (from autowoe>=1.3.3->lightautoml) (0.4.15)\r\n",
      "Requirement already satisfied: matplotlib in /usr/local/lib/python3.10/dist-packages (from autowoe>=1.3.3->lightautoml) (3.7.1)\r\n",
      "Requirement already satisfied: pytest in /usr/local/lib/python3.10/dist-packages (from autowoe>=1.3.3->lightautoml) (7.4.4)\r\n",
      "Requirement already satisfied: pytz in /usr/local/lib/python3.10/dist-packages (from autowoe>=1.3.3->lightautoml) (2024.2)\r\n",
      "Requirement already satisfied: sphinx in /usr/local/lib/python3.10/dist-packages (from autowoe>=1.3.3->lightautoml) (5.0.2)\r\n",
      "Requirement already satisfied: sphinx-rtd-theme in /usr/local/lib/python3.10/dist-packages (from autowoe>=1.3.3->lightautoml) (0.2.4)\r\n",
      "Requirement already satisfied: graphviz in /usr/local/lib/python3.10/dist-packages (from catboost>=0.26.1->lightautoml) (0.20.3)\r\n",
      "Requirement already satisfied: plotly in /usr/local/lib/python3.10/dist-packages (from catboost>=0.26.1->lightautoml) (5.24.1)\r\n",
      "Requirement already satisfied: six in /usr/local/lib/python3.10/dist-packages (from catboost>=0.26.1->lightautoml) (1.16.0)\r\n",
      "Requirement already satisfied: python-dateutil>=2.8.2 in /usr/local/lib/python3.10/dist-packages (from pandas->lightautoml) (2.8.2)\r\n",
      "Requirement already satisfied: tzdata>=2022.1 in /usr/local/lib/python3.10/dist-packages (from pandas->lightautoml) (2024.1)\r\n",
      "Requirement already satisfied: threadpoolctl>=2.0.0 in /usr/local/lib/python3.10/dist-packages (from scikit-learn>=0.22->lightautoml) (3.5.0)\r\n",
      "Requirement already satisfied: typing-extensions>=4.6.0 in /usr/local/lib/python3.10/dist-packages (from SQLAlchemy>=2.0->lightautoml) (4.12.2)\r\n",
      "Requirement already satisfied: greenlet!=0.4.17 in /usr/local/lib/python3.10/dist-packages (from SQLAlchemy>=2.0->lightautoml) (3.1.0)\r\n",
      "Requirement already satisfied: patsy>=0.5.2 in /usr/local/lib/python3.10/dist-packages (from statsmodels<=0.14.0->lightautoml) (0.5.6)\r\n",
      "Requirement already satisfied: packaging>=21.3 in /usr/local/lib/python3.10/dist-packages (from statsmodels<=0.14.0->lightautoml) (24.1)\r\n",
      "Requirement already satisfied: filelock in /usr/local/lib/python3.10/dist-packages (from torch>=1.9.0->lightautoml) (3.16.1)\r\n",
      "Requirement already satisfied: sympy in /usr/local/lib/python3.10/dist-packages (from torch>=1.9.0->lightautoml) (1.13.3)\r\n",
      "Requirement already satisfied: fsspec in /usr/local/lib/python3.10/dist-packages (from torch>=1.9.0->lightautoml) (2024.6.1)\r\n",
      "Requirement already satisfied: MarkupSafe>=2.0 in /usr/local/lib/python3.10/dist-packages (from jinja2->lightautoml) (2.1.5)\r\n",
      "Requirement already satisfied: alembic>=1.5.0 in /usr/local/lib/python3.10/dist-packages (from optuna->lightautoml) (1.14.0)\r\n",
      "Requirement already satisfied: colorlog in /usr/local/lib/python3.10/dist-packages (from optuna->lightautoml) (6.9.0)\r\n",
      "Requirement already satisfied: Mako in /usr/local/lib/python3.10/dist-packages (from alembic>=1.5.0->optuna->lightautoml) (1.3.8)\r\n",
      "Requirement already satisfied: contourpy>=1.0.1 in /usr/local/lib/python3.10/dist-packages (from matplotlib->autowoe>=1.3.3->lightautoml) (1.3.0)\r\n",
      "Requirement already satisfied: cycler>=0.10 in /usr/local/lib/python3.10/dist-packages (from matplotlib->autowoe>=1.3.3->lightautoml) (0.12.1)\r\n",
      "Requirement already satisfied: fonttools>=4.22.0 in /usr/local/lib/python3.10/dist-packages (from matplotlib->autowoe>=1.3.3->lightautoml) (4.53.1)\r\n",
      "Requirement already satisfied: kiwisolver>=1.0.1 in /usr/local/lib/python3.10/dist-packages (from matplotlib->autowoe>=1.3.3->lightautoml) (1.4.7)\r\n",
      "Requirement already satisfied: pillow>=6.2.0 in /usr/local/lib/python3.10/dist-packages (from matplotlib->autowoe>=1.3.3->lightautoml) (10.4.0)\r\n",
      "Requirement already satisfied: pyparsing>=2.3.1 in /usr/local/lib/python3.10/dist-packages (from matplotlib->autowoe>=1.3.3->lightautoml) (3.1.4)\r\n",
      "Requirement already satisfied: tenacity>=6.2.0 in /usr/local/lib/python3.10/dist-packages (from plotly->catboost>=0.26.1->lightautoml) (9.0.0)\r\n",
      "Requirement already satisfied: iniconfig in /usr/local/lib/python3.10/dist-packages (from pytest->autowoe>=1.3.3->lightautoml) (2.0.0)\r\n",
      "Requirement already satisfied: pluggy<2.0,>=0.12 in /usr/local/lib/python3.10/dist-packages (from pytest->autowoe>=1.3.3->lightautoml) (1.5.0)\r\n",
      "Requirement already satisfied: exceptiongroup>=1.0.0rc8 in /usr/local/lib/python3.10/dist-packages (from pytest->autowoe>=1.3.3->lightautoml) (1.2.2)\r\n",
      "Requirement already satisfied: tomli>=1.0.0 in /usr/local/lib/python3.10/dist-packages (from pytest->autowoe>=1.3.3->lightautoml) (2.0.1)\r\n",
      "Requirement already satisfied: sphinxcontrib-applehelp in /usr/local/lib/python3.10/dist-packages (from sphinx->autowoe>=1.3.3->lightautoml) (2.0.0)\r\n",
      "Requirement already satisfied: sphinxcontrib-devhelp in /usr/local/lib/python3.10/dist-packages (from sphinx->autowoe>=1.3.3->lightautoml) (2.0.0)\r\n",
      "Requirement already satisfied: sphinxcontrib-jsmath in /usr/local/lib/python3.10/dist-packages (from sphinx->autowoe>=1.3.3->lightautoml) (1.0.1)\r\n",
      "Requirement already satisfied: sphinxcontrib-htmlhelp>=2.0.0 in /usr/local/lib/python3.10/dist-packages (from sphinx->autowoe>=1.3.3->lightautoml) (2.1.0)\r\n",
      "Requirement already satisfied: sphinxcontrib-serializinghtml>=1.1.5 in /usr/local/lib/python3.10/dist-packages (from sphinx->autowoe>=1.3.3->lightautoml) (2.0.0)\r\n",
      "Requirement already satisfied: sphinxcontrib-qthelp in /usr/local/lib/python3.10/dist-packages (from sphinx->autowoe>=1.3.3->lightautoml) (2.0.0)\r\n",
      "Requirement already satisfied: Pygments>=2.0 in /usr/local/lib/python3.10/dist-packages (from sphinx->autowoe>=1.3.3->lightautoml) (2.18.0)\r\n",
      "Requirement already satisfied: docutils<0.19,>=0.14 in /usr/local/lib/python3.10/dist-packages (from sphinx->autowoe>=1.3.3->lightautoml) (0.18.1)\r\n",
      "Requirement already satisfied: snowballstemmer>=1.1 in /usr/local/lib/python3.10/dist-packages (from sphinx->autowoe>=1.3.3->lightautoml) (2.2.0)\r\n",
      "Requirement already satisfied: babel>=1.3 in /usr/local/lib/python3.10/dist-packages (from sphinx->autowoe>=1.3.3->lightautoml) (2.16.0)\r\n",
      "Requirement already satisfied: alabaster<0.8,>=0.7 in /usr/local/lib/python3.10/dist-packages (from sphinx->autowoe>=1.3.3->lightautoml) (0.7.16)\r\n",
      "Requirement already satisfied: imagesize in /usr/local/lib/python3.10/dist-packages (from sphinx->autowoe>=1.3.3->lightautoml) (1.4.1)\r\n",
      "Requirement already satisfied: requests>=2.5.0 in /usr/local/lib/python3.10/dist-packages (from sphinx->autowoe>=1.3.3->lightautoml) (2.32.3)\r\n",
      "Requirement already satisfied: mpmath<1.4,>=1.1.0 in /usr/local/lib/python3.10/dist-packages (from sympy->torch>=1.9.0->lightautoml) (1.3.0)\r\n",
      "Requirement already satisfied: charset-normalizer<4,>=2 in /usr/local/lib/python3.10/dist-packages (from requests>=2.5.0->sphinx->autowoe>=1.3.3->lightautoml) (3.3.2)\r\n",
      "Requirement already satisfied: idna<4,>=2.5 in /usr/local/lib/python3.10/dist-packages (from requests>=2.5.0->sphinx->autowoe>=1.3.3->lightautoml) (3.10)\r\n",
      "Requirement already satisfied: urllib3<3,>=1.21.1 in /usr/local/lib/python3.10/dist-packages (from requests>=2.5.0->sphinx->autowoe>=1.3.3->lightautoml) (2.2.3)\r\n",
      "Requirement already satisfied: certifi>=2017.4.17 in /usr/local/lib/python3.10/dist-packages (from requests>=2.5.0->sphinx->autowoe>=1.3.3->lightautoml) (2024.8.30)\r\n",
      "Downloading lightautoml-0.4.0-py3-none-any.whl (399 kB)\r\n",
      "\u001b[2K   \u001b[90m━━━━━━━━━━━━━━━━━━━━━━━━━━━━━━━━━━━━━━━━\u001b[0m \u001b[32m399.6/399.6 kB\u001b[0m \u001b[31m7.6 MB/s\u001b[0m eta \u001b[36m0:00:00\u001b[0m\r\n",
      "\u001b[?25hDownloading autowoe-1.3.3-py3-none-any.whl (216 kB)\r\n",
      "\u001b[2K   \u001b[90m━━━━━━━━━━━━━━━━━━━━━━━━━━━━━━━━━━━━━━━━\u001b[0m \u001b[32m216.0/216.0 kB\u001b[0m \u001b[31m12.9 MB/s\u001b[0m eta \u001b[36m0:00:00\u001b[0m\r\n",
      "\u001b[?25hDownloading poetry_core-1.9.1-py3-none-any.whl (309 kB)\r\n",
      "\u001b[2K   \u001b[90m━━━━━━━━━━━━━━━━━━━━━━━━━━━━━━━━━━━━━━━━\u001b[0m \u001b[32m309.5/309.5 kB\u001b[0m \u001b[31m18.2 MB/s\u001b[0m eta \u001b[36m0:00:00\u001b[0m\r\n",
      "\u001b[?25hDownloading statsmodels-0.14.0-cp310-cp310-manylinux_2_17_x86_64.manylinux2014_x86_64.whl (10.1 MB)\r\n",
      "\u001b[2K   \u001b[90m━━━━━━━━━━━━━━━━━━━━━━━━━━━━━━━━━━━━━━━━\u001b[0m \u001b[32m10.1/10.1 MB\u001b[0m \u001b[31m81.6 MB/s\u001b[0m eta \u001b[36m0:00:00\u001b[0m\r\n",
      "\u001b[?25hDownloading cmaes-0.11.1-py3-none-any.whl (35 kB)\r\n",
      "Building wheels for collected packages: json2html\r\n",
      "  Building wheel for json2html (setup.py) ... \u001b[?25l\u001b[?25hdone\r\n",
      "  Created wheel for json2html: filename=json2html-1.3.0-py3-none-any.whl size=7591 sha256=a17b9a91ccec3e6b59657d09251adcf859d8cfc5f4a962877f2c43e7c774321c\r\n",
      "  Stored in directory: /root/.cache/pip/wheels/e0/d8/b3/6f83a04ab0ec00e691de794d108286bb0f8bcdf4ade19afb57\r\n",
      "Successfully built json2html\r\n",
      "Installing collected packages: json2html, poetry-core, cmaes, statsmodels, autowoe, lightautoml\r\n",
      "  Attempting uninstall: statsmodels\r\n",
      "    Found existing installation: statsmodels 0.14.3\r\n",
      "    Uninstalling statsmodels-0.14.3:\r\n",
      "      Successfully uninstalled statsmodels-0.14.3\r\n",
      "Successfully installed autowoe-1.3.3 cmaes-0.11.1 json2html-1.3.0 lightautoml-0.4.0 poetry-core-1.9.1 statsmodels-0.14.0\r\n",
      "Note: you may need to restart the kernel to use updated packages.\n"
     ]
    }
   ],
   "source": [
    "pip install lightautoml"
   ]
  },
  {
   "cell_type": "code",
   "execution_count": 2,
   "id": "747419a4",
   "metadata": {
    "execution": {
     "iopub.execute_input": "2024-12-31T18:13:48.681064Z",
     "iopub.status.busy": "2024-12-31T18:13:48.680682Z",
     "iopub.status.idle": "2024-12-31T18:14:20.169714Z",
     "shell.execute_reply": "2024-12-31T18:14:20.168806Z"
    },
    "papermill": {
     "duration": 31.499535,
     "end_time": "2024-12-31T18:14:20.171594",
     "exception": false,
     "start_time": "2024-12-31T18:13:48.672059",
     "status": "completed"
    },
    "tags": []
   },
   "outputs": [],
   "source": [
    "from lightautoml.automl.presets.tabular_presets import TabularAutoML\n",
    "from lightautoml.tasks import Task\n",
    "import torch\n",
    "import os"
   ]
  },
  {
   "cell_type": "code",
   "execution_count": 3,
   "id": "1f3f70c3",
   "metadata": {
    "execution": {
     "iopub.execute_input": "2024-12-31T18:14:20.187938Z",
     "iopub.status.busy": "2024-12-31T18:14:20.187291Z",
     "iopub.status.idle": "2024-12-31T18:14:20.193962Z",
     "shell.execute_reply": "2024-12-31T18:14:20.193033Z"
    },
    "papermill": {
     "duration": 0.016269,
     "end_time": "2024-12-31T18:14:20.195599",
     "exception": false,
     "start_time": "2024-12-31T18:14:20.179330",
     "status": "completed"
    },
    "tags": []
   },
   "outputs": [],
   "source": [
    "import pandas as pd              # For data manipulation and analysis\n",
    "import numpy as np               # For numerical computing\n",
    "from datetime import datetime\n",
    "import scipy.stats as stats      # For statistical analysis\n",
    "import math\n",
    "import matplotlib                # For plotting and visualization\n",
    "import matplotlib.pyplot as plt  \n",
    "from pandas.plotting import parallel_coordinates\n",
    "import seaborn as sns            # For statistical data visualization\n",
    "%matplotlib inline\n",
    "import warnings\n",
    "warnings.filterwarnings(\"ignore\")"
   ]
  },
  {
   "cell_type": "markdown",
   "id": "3244d560",
   "metadata": {
    "papermill": {
     "duration": 0.006653,
     "end_time": "2024-12-31T18:14:20.209618",
     "exception": false,
     "start_time": "2024-12-31T18:14:20.202965",
     "status": "completed"
    },
    "tags": []
   },
   "source": [
    "## Import datasets"
   ]
  },
  {
   "cell_type": "code",
   "execution_count": 4,
   "id": "b9d0d454",
   "metadata": {
    "execution": {
     "iopub.execute_input": "2024-12-31T18:14:20.224899Z",
     "iopub.status.busy": "2024-12-31T18:14:20.224560Z",
     "iopub.status.idle": "2024-12-31T18:14:32.285858Z",
     "shell.execute_reply": "2024-12-31T18:14:32.284811Z"
    },
    "papermill": {
     "duration": 12.071043,
     "end_time": "2024-12-31T18:14:32.287854",
     "exception": false,
     "start_time": "2024-12-31T18:14:20.216811",
     "status": "completed"
    },
    "tags": []
   },
   "outputs": [],
   "source": [
    "df_train = pd.read_csv('/kaggle/input/playground-series-s4e12/train.csv')\n",
    "df_test = pd.read_csv('/kaggle/input/playground-series-s4e12/test.csv')"
   ]
  },
  {
   "cell_type": "markdown",
   "id": "8c98952b",
   "metadata": {
    "papermill": {
     "duration": 0.007162,
     "end_time": "2024-12-31T18:14:32.302695",
     "exception": false,
     "start_time": "2024-12-31T18:14:32.295533",
     "status": "completed"
    },
    "tags": []
   },
   "source": [
    "## Feature Engineering"
   ]
  },
  {
   "cell_type": "code",
   "execution_count": 5,
   "id": "386bfdb6",
   "metadata": {
    "execution": {
     "iopub.execute_input": "2024-12-31T18:14:32.319179Z",
     "iopub.status.busy": "2024-12-31T18:14:32.318824Z",
     "iopub.status.idle": "2024-12-31T18:14:34.056343Z",
     "shell.execute_reply": "2024-12-31T18:14:34.055504Z"
    },
    "papermill": {
     "duration": 1.74791,
     "end_time": "2024-12-31T18:14:34.058236",
     "exception": false,
     "start_time": "2024-12-31T18:14:32.310326",
     "status": "completed"
    },
    "tags": []
   },
   "outputs": [],
   "source": [
    "def extract_date_components(df, date_column):\n",
    "    # Convert the column to datetime type\n",
    "    df[date_column] = pd.to_datetime(df[date_column])\n",
    "    # Extract Year, Month, and Day\n",
    "    df['Year'] = df[date_column].dt.year\n",
    "    df['Month'] = df[date_column].dt.month\n",
    "    df['Day'] = df[date_column].dt.day\n",
    "    # Drop the original column\n",
    "    df.drop(columns=[date_column], inplace=True)\n",
    "    return df\n",
    "\n",
    "def log_transform(df):\n",
    "    df['Log Annual Income'] = np.log(df['Annual Income']+1)\n",
    "    # Drop the original column\n",
    "    df.drop(columns=['Annual Income'], inplace=True)\n",
    "    return df\n",
    "\n",
    "for df in [df_train, df_test]:\n",
    "    extract_date_components(df, 'Policy Start Date')\n",
    "    log_transform(df)"
   ]
  },
  {
   "cell_type": "code",
   "execution_count": 6,
   "id": "4276fc67",
   "metadata": {
    "execution": {
     "iopub.execute_input": "2024-12-31T18:14:34.074227Z",
     "iopub.status.busy": "2024-12-31T18:14:34.073844Z",
     "iopub.status.idle": "2024-12-31T18:14:34.081522Z",
     "shell.execute_reply": "2024-12-31T18:14:34.080579Z"
    },
    "papermill": {
     "duration": 0.017405,
     "end_time": "2024-12-31T18:14:34.083061",
     "exception": false,
     "start_time": "2024-12-31T18:14:34.065656",
     "status": "completed"
    },
    "tags": []
   },
   "outputs": [
    {
     "name": "stdout",
     "output_type": "stream",
     "text": [
      "Numerical Features \n",
      " ['Age', 'Number of Dependents', 'Health Score', 'Previous Claims', 'Vehicle Age', 'Credit Score', 'Insurance Duration', 'Year', 'Month', 'Day', 'Log Annual Income']\n",
      "Categorical Features \n",
      " ['Gender', 'Marital Status', 'Education Level', 'Occupation', 'Location', 'Policy Type', 'Customer Feedback', 'Smoking Status', 'Exercise Frequency', 'Property Type']\n"
     ]
    }
   ],
   "source": [
    "num_cols = [col for col in df_test.columns if df_test[col].dtypes in ['float', 'int32']]\n",
    "print('Numerical Features \\n', num_cols)\n",
    "cat_cols = [col for col in df_test.columns if df_test[col].dtypes in ['object']]\n",
    "print('Categorical Features \\n', cat_cols)"
   ]
  },
  {
   "cell_type": "code",
   "execution_count": 7,
   "id": "62aa26fa",
   "metadata": {
    "execution": {
     "iopub.execute_input": "2024-12-31T18:14:34.100680Z",
     "iopub.status.busy": "2024-12-31T18:14:34.100348Z",
     "iopub.status.idle": "2024-12-31T18:14:34.165925Z",
     "shell.execute_reply": "2024-12-31T18:14:34.165057Z"
    },
    "papermill": {
     "duration": 0.077207,
     "end_time": "2024-12-31T18:14:34.167770",
     "exception": false,
     "start_time": "2024-12-31T18:14:34.090563",
     "status": "completed"
    },
    "tags": []
   },
   "outputs": [
    {
     "data": {
      "text/html": [
       "<style>#sk-container-id-1 {color: black;background-color: white;}#sk-container-id-1 pre{padding: 0;}#sk-container-id-1 div.sk-toggleable {background-color: white;}#sk-container-id-1 label.sk-toggleable__label {cursor: pointer;display: block;width: 100%;margin-bottom: 0;padding: 0.3em;box-sizing: border-box;text-align: center;}#sk-container-id-1 label.sk-toggleable__label-arrow:before {content: \"▸\";float: left;margin-right: 0.25em;color: #696969;}#sk-container-id-1 label.sk-toggleable__label-arrow:hover:before {color: black;}#sk-container-id-1 div.sk-estimator:hover label.sk-toggleable__label-arrow:before {color: black;}#sk-container-id-1 div.sk-toggleable__content {max-height: 0;max-width: 0;overflow: hidden;text-align: left;background-color: #f0f8ff;}#sk-container-id-1 div.sk-toggleable__content pre {margin: 0.2em;color: black;border-radius: 0.25em;background-color: #f0f8ff;}#sk-container-id-1 input.sk-toggleable__control:checked~div.sk-toggleable__content {max-height: 200px;max-width: 100%;overflow: auto;}#sk-container-id-1 input.sk-toggleable__control:checked~label.sk-toggleable__label-arrow:before {content: \"▾\";}#sk-container-id-1 div.sk-estimator input.sk-toggleable__control:checked~label.sk-toggleable__label {background-color: #d4ebff;}#sk-container-id-1 div.sk-label input.sk-toggleable__control:checked~label.sk-toggleable__label {background-color: #d4ebff;}#sk-container-id-1 input.sk-hidden--visually {border: 0;clip: rect(1px 1px 1px 1px);clip: rect(1px, 1px, 1px, 1px);height: 1px;margin: -1px;overflow: hidden;padding: 0;position: absolute;width: 1px;}#sk-container-id-1 div.sk-estimator {font-family: monospace;background-color: #f0f8ff;border: 1px dotted black;border-radius: 0.25em;box-sizing: border-box;margin-bottom: 0.5em;}#sk-container-id-1 div.sk-estimator:hover {background-color: #d4ebff;}#sk-container-id-1 div.sk-parallel-item::after {content: \"\";width: 100%;border-bottom: 1px solid gray;flex-grow: 1;}#sk-container-id-1 div.sk-label:hover label.sk-toggleable__label {background-color: #d4ebff;}#sk-container-id-1 div.sk-serial::before {content: \"\";position: absolute;border-left: 1px solid gray;box-sizing: border-box;top: 0;bottom: 0;left: 50%;z-index: 0;}#sk-container-id-1 div.sk-serial {display: flex;flex-direction: column;align-items: center;background-color: white;padding-right: 0.2em;padding-left: 0.2em;position: relative;}#sk-container-id-1 div.sk-item {position: relative;z-index: 1;}#sk-container-id-1 div.sk-parallel {display: flex;align-items: stretch;justify-content: center;background-color: white;position: relative;}#sk-container-id-1 div.sk-item::before, #sk-container-id-1 div.sk-parallel-item::before {content: \"\";position: absolute;border-left: 1px solid gray;box-sizing: border-box;top: 0;bottom: 0;left: 50%;z-index: -1;}#sk-container-id-1 div.sk-parallel-item {display: flex;flex-direction: column;z-index: 1;position: relative;background-color: white;}#sk-container-id-1 div.sk-parallel-item:first-child::after {align-self: flex-end;width: 50%;}#sk-container-id-1 div.sk-parallel-item:last-child::after {align-self: flex-start;width: 50%;}#sk-container-id-1 div.sk-parallel-item:only-child::after {width: 0;}#sk-container-id-1 div.sk-dashed-wrapped {border: 1px dashed gray;margin: 0 0.4em 0.5em 0.4em;box-sizing: border-box;padding-bottom: 0.4em;background-color: white;}#sk-container-id-1 div.sk-label label {font-family: monospace;font-weight: bold;display: inline-block;line-height: 1.2em;}#sk-container-id-1 div.sk-label-container {text-align: center;}#sk-container-id-1 div.sk-container {/* jupyter's `normalize.less` sets `[hidden] { display: none; }` but bootstrap.min.css set `[hidden] { display: none !important; }` so we also need the `!important` here to be able to override the default hidden behavior on the sphinx rendered scikit-learn.org. See: https://github.com/scikit-learn/scikit-learn/issues/21755 */display: inline-block !important;position: relative;}#sk-container-id-1 div.sk-text-repr-fallback {display: none;}</style><div id=\"sk-container-id-1\" class=\"sk-top-container\"><div class=\"sk-text-repr-fallback\"><pre>ColumnTransformer(transformers=[(&#x27;num&#x27;,\n",
       "                                 Pipeline(steps=[(&#x27;imputer&#x27;,\n",
       "                                                  SimpleImputer(strategy=&#x27;median&#x27;)),\n",
       "                                                 (&#x27;scaler&#x27;, StandardScaler()),\n",
       "                                                 (&#x27;convert_to_float32&#x27;,\n",
       "                                                  FunctionTransformer(func=&lt;function &lt;lambda&gt; at 0x7cba438a9240&gt;))]),\n",
       "                                 [&#x27;Age&#x27;, &#x27;Number of Dependents&#x27;, &#x27;Health Score&#x27;,\n",
       "                                  &#x27;Previous Claims&#x27;, &#x27;Vehicle Age&#x27;,\n",
       "                                  &#x27;Credit Score&#x27;, &#x27;Insurance Duration&#x27;, &#x27;Year&#x27;,\n",
       "                                  &#x27;Month&#x27;, &#x27;Day&#x27;, &#x27;Log Annual Income&#x27;]),\n",
       "                                (&#x27;cat&#x27;,\n",
       "                                 Pipeline(steps=[(&#x27;imputer&#x27;,\n",
       "                                                  SimpleImputer(fill_value=&#x27;missing&#x27;,\n",
       "                                                                strategy=&#x27;constant&#x27;)),\n",
       "                                                 (&#x27;ordinal&#x27;,\n",
       "                                                  OrdinalEncoder())]),\n",
       "                                 [&#x27;Gender&#x27;, &#x27;Marital Status&#x27;, &#x27;Education Level&#x27;,\n",
       "                                  &#x27;Occupation&#x27;, &#x27;Location&#x27;, &#x27;Policy Type&#x27;,\n",
       "                                  &#x27;Customer Feedback&#x27;, &#x27;Smoking Status&#x27;,\n",
       "                                  &#x27;Exercise Frequency&#x27;, &#x27;Property Type&#x27;])])</pre><b>In a Jupyter environment, please rerun this cell to show the HTML representation or trust the notebook. <br />On GitHub, the HTML representation is unable to render, please try loading this page with nbviewer.org.</b></div><div class=\"sk-container\" hidden><div class=\"sk-item sk-dashed-wrapped\"><div class=\"sk-label-container\"><div class=\"sk-label sk-toggleable\"><input class=\"sk-toggleable__control sk-hidden--visually\" id=\"sk-estimator-id-1\" type=\"checkbox\" ><label for=\"sk-estimator-id-1\" class=\"sk-toggleable__label sk-toggleable__label-arrow\">ColumnTransformer</label><div class=\"sk-toggleable__content\"><pre>ColumnTransformer(transformers=[(&#x27;num&#x27;,\n",
       "                                 Pipeline(steps=[(&#x27;imputer&#x27;,\n",
       "                                                  SimpleImputer(strategy=&#x27;median&#x27;)),\n",
       "                                                 (&#x27;scaler&#x27;, StandardScaler()),\n",
       "                                                 (&#x27;convert_to_float32&#x27;,\n",
       "                                                  FunctionTransformer(func=&lt;function &lt;lambda&gt; at 0x7cba438a9240&gt;))]),\n",
       "                                 [&#x27;Age&#x27;, &#x27;Number of Dependents&#x27;, &#x27;Health Score&#x27;,\n",
       "                                  &#x27;Previous Claims&#x27;, &#x27;Vehicle Age&#x27;,\n",
       "                                  &#x27;Credit Score&#x27;, &#x27;Insurance Duration&#x27;, &#x27;Year&#x27;,\n",
       "                                  &#x27;Month&#x27;, &#x27;Day&#x27;, &#x27;Log Annual Income&#x27;]),\n",
       "                                (&#x27;cat&#x27;,\n",
       "                                 Pipeline(steps=[(&#x27;imputer&#x27;,\n",
       "                                                  SimpleImputer(fill_value=&#x27;missing&#x27;,\n",
       "                                                                strategy=&#x27;constant&#x27;)),\n",
       "                                                 (&#x27;ordinal&#x27;,\n",
       "                                                  OrdinalEncoder())]),\n",
       "                                 [&#x27;Gender&#x27;, &#x27;Marital Status&#x27;, &#x27;Education Level&#x27;,\n",
       "                                  &#x27;Occupation&#x27;, &#x27;Location&#x27;, &#x27;Policy Type&#x27;,\n",
       "                                  &#x27;Customer Feedback&#x27;, &#x27;Smoking Status&#x27;,\n",
       "                                  &#x27;Exercise Frequency&#x27;, &#x27;Property Type&#x27;])])</pre></div></div></div><div class=\"sk-parallel\"><div class=\"sk-parallel-item\"><div class=\"sk-item\"><div class=\"sk-label-container\"><div class=\"sk-label sk-toggleable\"><input class=\"sk-toggleable__control sk-hidden--visually\" id=\"sk-estimator-id-2\" type=\"checkbox\" ><label for=\"sk-estimator-id-2\" class=\"sk-toggleable__label sk-toggleable__label-arrow\">num</label><div class=\"sk-toggleable__content\"><pre>[&#x27;Age&#x27;, &#x27;Number of Dependents&#x27;, &#x27;Health Score&#x27;, &#x27;Previous Claims&#x27;, &#x27;Vehicle Age&#x27;, &#x27;Credit Score&#x27;, &#x27;Insurance Duration&#x27;, &#x27;Year&#x27;, &#x27;Month&#x27;, &#x27;Day&#x27;, &#x27;Log Annual Income&#x27;]</pre></div></div></div><div class=\"sk-serial\"><div class=\"sk-item\"><div class=\"sk-serial\"><div class=\"sk-item\"><div class=\"sk-estimator sk-toggleable\"><input class=\"sk-toggleable__control sk-hidden--visually\" id=\"sk-estimator-id-3\" type=\"checkbox\" ><label for=\"sk-estimator-id-3\" class=\"sk-toggleable__label sk-toggleable__label-arrow\">SimpleImputer</label><div class=\"sk-toggleable__content\"><pre>SimpleImputer(strategy=&#x27;median&#x27;)</pre></div></div></div><div class=\"sk-item\"><div class=\"sk-estimator sk-toggleable\"><input class=\"sk-toggleable__control sk-hidden--visually\" id=\"sk-estimator-id-4\" type=\"checkbox\" ><label for=\"sk-estimator-id-4\" class=\"sk-toggleable__label sk-toggleable__label-arrow\">StandardScaler</label><div class=\"sk-toggleable__content\"><pre>StandardScaler()</pre></div></div></div><div class=\"sk-item\"><div class=\"sk-estimator sk-toggleable\"><input class=\"sk-toggleable__control sk-hidden--visually\" id=\"sk-estimator-id-5\" type=\"checkbox\" ><label for=\"sk-estimator-id-5\" class=\"sk-toggleable__label sk-toggleable__label-arrow\">FunctionTransformer</label><div class=\"sk-toggleable__content\"><pre>FunctionTransformer(func=&lt;function &lt;lambda&gt; at 0x7cba438a9240&gt;)</pre></div></div></div></div></div></div></div></div><div class=\"sk-parallel-item\"><div class=\"sk-item\"><div class=\"sk-label-container\"><div class=\"sk-label sk-toggleable\"><input class=\"sk-toggleable__control sk-hidden--visually\" id=\"sk-estimator-id-6\" type=\"checkbox\" ><label for=\"sk-estimator-id-6\" class=\"sk-toggleable__label sk-toggleable__label-arrow\">cat</label><div class=\"sk-toggleable__content\"><pre>[&#x27;Gender&#x27;, &#x27;Marital Status&#x27;, &#x27;Education Level&#x27;, &#x27;Occupation&#x27;, &#x27;Location&#x27;, &#x27;Policy Type&#x27;, &#x27;Customer Feedback&#x27;, &#x27;Smoking Status&#x27;, &#x27;Exercise Frequency&#x27;, &#x27;Property Type&#x27;]</pre></div></div></div><div class=\"sk-serial\"><div class=\"sk-item\"><div class=\"sk-serial\"><div class=\"sk-item\"><div class=\"sk-estimator sk-toggleable\"><input class=\"sk-toggleable__control sk-hidden--visually\" id=\"sk-estimator-id-7\" type=\"checkbox\" ><label for=\"sk-estimator-id-7\" class=\"sk-toggleable__label sk-toggleable__label-arrow\">SimpleImputer</label><div class=\"sk-toggleable__content\"><pre>SimpleImputer(fill_value=&#x27;missing&#x27;, strategy=&#x27;constant&#x27;)</pre></div></div></div><div class=\"sk-item\"><div class=\"sk-estimator sk-toggleable\"><input class=\"sk-toggleable__control sk-hidden--visually\" id=\"sk-estimator-id-8\" type=\"checkbox\" ><label for=\"sk-estimator-id-8\" class=\"sk-toggleable__label sk-toggleable__label-arrow\">OrdinalEncoder</label><div class=\"sk-toggleable__content\"><pre>OrdinalEncoder()</pre></div></div></div></div></div></div></div></div></div></div></div></div>"
      ],
      "text/plain": [
       "ColumnTransformer(transformers=[('num',\n",
       "                                 Pipeline(steps=[('imputer',\n",
       "                                                  SimpleImputer(strategy='median')),\n",
       "                                                 ('scaler', StandardScaler()),\n",
       "                                                 ('convert_to_float32',\n",
       "                                                  FunctionTransformer(func=<function <lambda> at 0x7cba438a9240>))]),\n",
       "                                 ['Age', 'Number of Dependents', 'Health Score',\n",
       "                                  'Previous Claims', 'Vehicle Age',\n",
       "                                  'Credit Score', 'Insurance Duration', 'Year',\n",
       "                                  'Month', 'Day', 'Log Annual Income']),\n",
       "                                ('cat',\n",
       "                                 Pipeline(steps=[('imputer',\n",
       "                                                  SimpleImputer(fill_value='missing',\n",
       "                                                                strategy='constant')),\n",
       "                                                 ('ordinal',\n",
       "                                                  OrdinalEncoder())]),\n",
       "                                 ['Gender', 'Marital Status', 'Education Level',\n",
       "                                  'Occupation', 'Location', 'Policy Type',\n",
       "                                  'Customer Feedback', 'Smoking Status',\n",
       "                                  'Exercise Frequency', 'Property Type'])])"
      ]
     },
     "execution_count": 7,
     "metadata": {},
     "output_type": "execute_result"
    }
   ],
   "source": [
    "from sklearn.pipeline import Pipeline\n",
    "from sklearn.impute import SimpleImputer\n",
    "from sklearn.compose import ColumnTransformer\n",
    "from sklearn.preprocessing import StandardScaler, OrdinalEncoder, FunctionTransformer\n",
    "# Define preprocessing pipelines\n",
    "numerical_pipeline = Pipeline(steps=[\n",
    "    ('imputer', SimpleImputer(strategy='median')),\n",
    "    ('scaler', StandardScaler()),\n",
    "    ('convert_to_float32', FunctionTransformer(lambda x: x.astype(np.float32)))\n",
    "])\n",
    "\n",
    "categorical_pipeline = Pipeline(steps=[\n",
    "    ('imputer', SimpleImputer(strategy='constant', fill_value='missing')),\n",
    "    ('ordinal', OrdinalEncoder())\n",
    "])\n",
    "\n",
    "# Combine the numerical and categorical pipelines\n",
    "preprocessor = ColumnTransformer(\n",
    "    transformers=[\n",
    "        ('num', numerical_pipeline, num_cols),\n",
    "        ('cat', categorical_pipeline, cat_cols)\n",
    "    ]\n",
    ")\n",
    "\n",
    "preprocessor.set_output(transform=\"pandas\")"
   ]
  },
  {
   "cell_type": "code",
   "execution_count": 8,
   "id": "b0b000a1",
   "metadata": {
    "execution": {
     "iopub.execute_input": "2024-12-31T18:14:34.184734Z",
     "iopub.status.busy": "2024-12-31T18:14:34.184409Z",
     "iopub.status.idle": "2024-12-31T18:14:43.529329Z",
     "shell.execute_reply": "2024-12-31T18:14:43.528414Z"
    },
    "papermill": {
     "duration": 9.35584,
     "end_time": "2024-12-31T18:14:43.531361",
     "exception": false,
     "start_time": "2024-12-31T18:14:34.175521",
     "status": "completed"
    },
    "tags": []
   },
   "outputs": [],
   "source": [
    "# Apply the transformations to the training and validation sets\n",
    "df_train_processed = preprocessor.fit_transform(df_train)\n",
    "df_test_processed = preprocessor.transform(df_test)"
   ]
  },
  {
   "cell_type": "markdown",
   "id": "6d898819",
   "metadata": {
    "papermill": {
     "duration": 0.007819,
     "end_time": "2024-12-31T18:14:43.547414",
     "exception": false,
     "start_time": "2024-12-31T18:14:43.539595",
     "status": "completed"
    },
    "tags": []
   },
   "source": [
    "## Log-transform Target - *Premium Amount*"
   ]
  },
  {
   "cell_type": "code",
   "execution_count": 9,
   "id": "4efcf21b",
   "metadata": {
    "execution": {
     "iopub.execute_input": "2024-12-31T18:14:43.563936Z",
     "iopub.status.busy": "2024-12-31T18:14:43.563617Z",
     "iopub.status.idle": "2024-12-31T18:14:44.027908Z",
     "shell.execute_reply": "2024-12-31T18:14:44.026843Z"
    },
    "papermill": {
     "duration": 0.474411,
     "end_time": "2024-12-31T18:14:44.029588",
     "exception": false,
     "start_time": "2024-12-31T18:14:43.555177",
     "status": "completed"
    },
    "tags": []
   },
   "outputs": [
    {
     "data": {
      "text/html": [
       "<div>\n",
       "<style scoped>\n",
       "    .dataframe tbody tr th:only-of-type {\n",
       "        vertical-align: middle;\n",
       "    }\n",
       "\n",
       "    .dataframe tbody tr th {\n",
       "        vertical-align: top;\n",
       "    }\n",
       "\n",
       "    .dataframe thead th {\n",
       "        text-align: right;\n",
       "    }\n",
       "</style>\n",
       "<table border=\"1\" class=\"dataframe\">\n",
       "  <thead>\n",
       "    <tr style=\"text-align: right;\">\n",
       "      <th></th>\n",
       "      <th>num__Age</th>\n",
       "      <th>num__Number of Dependents</th>\n",
       "      <th>num__Health Score</th>\n",
       "      <th>num__Previous Claims</th>\n",
       "      <th>num__Vehicle Age</th>\n",
       "      <th>num__Credit Score</th>\n",
       "      <th>num__Insurance Duration</th>\n",
       "      <th>num__Year</th>\n",
       "      <th>num__Month</th>\n",
       "      <th>num__Day</th>\n",
       "      <th>...</th>\n",
       "      <th>cat__Marital Status</th>\n",
       "      <th>cat__Education Level</th>\n",
       "      <th>cat__Occupation</th>\n",
       "      <th>cat__Location</th>\n",
       "      <th>cat__Policy Type</th>\n",
       "      <th>cat__Customer Feedback</th>\n",
       "      <th>cat__Smoking Status</th>\n",
       "      <th>cat__Exercise Frequency</th>\n",
       "      <th>cat__Property Type</th>\n",
       "      <th>Premium Amount</th>\n",
       "    </tr>\n",
       "  </thead>\n",
       "  <tbody>\n",
       "    <tr>\n",
       "      <th>0</th>\n",
       "      <td>-1.648301</td>\n",
       "      <td>-0.746862</td>\n",
       "      <td>-0.249610</td>\n",
       "      <td>1.216739</td>\n",
       "      <td>1.286338</td>\n",
       "      <td>-1.567375</td>\n",
       "      <td>-0.007023</td>\n",
       "      <td>0.934365</td>\n",
       "      <td>1.604378</td>\n",
       "      <td>0.827741</td>\n",
       "      <td>...</td>\n",
       "      <td>1.0</td>\n",
       "      <td>0.0</td>\n",
       "      <td>1.0</td>\n",
       "      <td>2.0</td>\n",
       "      <td>2.0</td>\n",
       "      <td>2.0</td>\n",
       "      <td>0.0</td>\n",
       "      <td>3.0</td>\n",
       "      <td>2.0</td>\n",
       "      <td>2869.0</td>\n",
       "    </tr>\n",
       "    <tr>\n",
       "      <th>1</th>\n",
       "      <td>-0.159542</td>\n",
       "      <td>0.733500</td>\n",
       "      <td>-0.844110</td>\n",
       "      <td>-0.002284</td>\n",
       "      <td>0.420713</td>\n",
       "      <td>0.714630</td>\n",
       "      <td>-1.163391</td>\n",
       "      <td>0.934365</td>\n",
       "      <td>-0.143523</td>\n",
       "      <td>-0.420596</td>\n",
       "      <td>...</td>\n",
       "      <td>0.0</td>\n",
       "      <td>2.0</td>\n",
       "      <td>3.0</td>\n",
       "      <td>0.0</td>\n",
       "      <td>1.0</td>\n",
       "      <td>0.0</td>\n",
       "      <td>1.0</td>\n",
       "      <td>1.0</td>\n",
       "      <td>2.0</td>\n",
       "      <td>1483.0</td>\n",
       "    </tr>\n",
       "    <tr>\n",
       "      <th>2</th>\n",
       "      <td>-1.350549</td>\n",
       "      <td>0.733500</td>\n",
       "      <td>1.829212</td>\n",
       "      <td>-0.002284</td>\n",
       "      <td>0.766963</td>\n",
       "      <td>0.013020</td>\n",
       "      <td>-0.777935</td>\n",
       "      <td>0.934365</td>\n",
       "      <td>0.730427</td>\n",
       "      <td>1.622137</td>\n",
       "      <td>...</td>\n",
       "      <td>0.0</td>\n",
       "      <td>1.0</td>\n",
       "      <td>1.0</td>\n",
       "      <td>1.0</td>\n",
       "      <td>2.0</td>\n",
       "      <td>1.0</td>\n",
       "      <td>1.0</td>\n",
       "      <td>3.0</td>\n",
       "      <td>2.0</td>\n",
       "      <td>567.0</td>\n",
       "    </tr>\n",
       "    <tr>\n",
       "      <th>3</th>\n",
       "      <td>-1.499425</td>\n",
       "      <td>-0.006681</td>\n",
       "      <td>-1.235840</td>\n",
       "      <td>-0.002284</td>\n",
       "      <td>-1.656788</td>\n",
       "      <td>-1.602810</td>\n",
       "      <td>-1.548847</td>\n",
       "      <td>1.611868</td>\n",
       "      <td>-0.143523</td>\n",
       "      <td>-0.420596</td>\n",
       "      <td>...</td>\n",
       "      <td>1.0</td>\n",
       "      <td>0.0</td>\n",
       "      <td>3.0</td>\n",
       "      <td>0.0</td>\n",
       "      <td>0.0</td>\n",
       "      <td>2.0</td>\n",
       "      <td>1.0</td>\n",
       "      <td>0.0</td>\n",
       "      <td>0.0</td>\n",
       "      <td>765.0</td>\n",
       "    </tr>\n",
       "    <tr>\n",
       "      <th>4</th>\n",
       "      <td>-1.499425</td>\n",
       "      <td>-0.746862</td>\n",
       "      <td>-0.437598</td>\n",
       "      <td>-1.221307</td>\n",
       "      <td>-0.271787</td>\n",
       "      <td>0.034281</td>\n",
       "      <td>-0.392479</td>\n",
       "      <td>-0.420641</td>\n",
       "      <td>1.604378</td>\n",
       "      <td>-1.668934</td>\n",
       "      <td>...</td>\n",
       "      <td>2.0</td>\n",
       "      <td>0.0</td>\n",
       "      <td>1.0</td>\n",
       "      <td>0.0</td>\n",
       "      <td>2.0</td>\n",
       "      <td>2.0</td>\n",
       "      <td>1.0</td>\n",
       "      <td>3.0</td>\n",
       "      <td>2.0</td>\n",
       "      <td>2022.0</td>\n",
       "    </tr>\n",
       "    <tr>\n",
       "      <th>...</th>\n",
       "      <td>...</td>\n",
       "      <td>...</td>\n",
       "      <td>...</td>\n",
       "      <td>...</td>\n",
       "      <td>...</td>\n",
       "      <td>...</td>\n",
       "      <td>...</td>\n",
       "      <td>...</td>\n",
       "      <td>...</td>\n",
       "      <td>...</td>\n",
       "      <td>...</td>\n",
       "      <td>...</td>\n",
       "      <td>...</td>\n",
       "      <td>...</td>\n",
       "      <td>...</td>\n",
       "      <td>...</td>\n",
       "      <td>...</td>\n",
       "      <td>...</td>\n",
       "      <td>...</td>\n",
       "      <td>...</td>\n",
       "      <td>...</td>\n",
       "    </tr>\n",
       "    <tr>\n",
       "      <th>1199995</th>\n",
       "      <td>-0.382856</td>\n",
       "      <td>-1.487043</td>\n",
       "      <td>-0.996082</td>\n",
       "      <td>-0.002284</td>\n",
       "      <td>-0.791163</td>\n",
       "      <td>-1.567375</td>\n",
       "      <td>-0.777935</td>\n",
       "      <td>0.934365</td>\n",
       "      <td>-0.434840</td>\n",
       "      <td>-1.441963</td>\n",
       "      <td>...</td>\n",
       "      <td>1.0</td>\n",
       "      <td>2.0</td>\n",
       "      <td>2.0</td>\n",
       "      <td>2.0</td>\n",
       "      <td>2.0</td>\n",
       "      <td>2.0</td>\n",
       "      <td>0.0</td>\n",
       "      <td>0.0</td>\n",
       "      <td>0.0</td>\n",
       "      <td>1303.0</td>\n",
       "    </tr>\n",
       "    <tr>\n",
       "      <th>1199996</th>\n",
       "      <td>0.957026</td>\n",
       "      <td>-0.006681</td>\n",
       "      <td>-1.189716</td>\n",
       "      <td>-0.002284</td>\n",
       "      <td>0.074463</td>\n",
       "      <td>0.027194</td>\n",
       "      <td>-0.392479</td>\n",
       "      <td>0.256862</td>\n",
       "      <td>0.730427</td>\n",
       "      <td>-0.647567</td>\n",
       "      <td>...</td>\n",
       "      <td>0.0</td>\n",
       "      <td>2.0</td>\n",
       "      <td>1.0</td>\n",
       "      <td>0.0</td>\n",
       "      <td>1.0</td>\n",
       "      <td>2.0</td>\n",
       "      <td>0.0</td>\n",
       "      <td>3.0</td>\n",
       "      <td>0.0</td>\n",
       "      <td>821.0</td>\n",
       "    </tr>\n",
       "    <tr>\n",
       "      <th>1199997</th>\n",
       "      <td>-1.648301</td>\n",
       "      <td>-1.487043</td>\n",
       "      <td>-0.915601</td>\n",
       "      <td>-1.221307</td>\n",
       "      <td>1.632588</td>\n",
       "      <td>0.013020</td>\n",
       "      <td>0.378433</td>\n",
       "      <td>-0.420641</td>\n",
       "      <td>-0.434840</td>\n",
       "      <td>1.054711</td>\n",
       "      <td>...</td>\n",
       "      <td>0.0</td>\n",
       "      <td>2.0</td>\n",
       "      <td>3.0</td>\n",
       "      <td>1.0</td>\n",
       "      <td>0.0</td>\n",
       "      <td>1.0</td>\n",
       "      <td>0.0</td>\n",
       "      <td>1.0</td>\n",
       "      <td>1.0</td>\n",
       "      <td>371.0</td>\n",
       "    </tr>\n",
       "    <tr>\n",
       "      <th>1199998</th>\n",
       "      <td>1.031464</td>\n",
       "      <td>-0.746862</td>\n",
       "      <td>-0.592267</td>\n",
       "      <td>-0.002284</td>\n",
       "      <td>-0.444912</td>\n",
       "      <td>-1.319331</td>\n",
       "      <td>-0.392479</td>\n",
       "      <td>-0.420641</td>\n",
       "      <td>0.730427</td>\n",
       "      <td>0.373800</td>\n",
       "      <td>...</td>\n",
       "      <td>2.0</td>\n",
       "      <td>3.0</td>\n",
       "      <td>3.0</td>\n",
       "      <td>1.0</td>\n",
       "      <td>2.0</td>\n",
       "      <td>2.0</td>\n",
       "      <td>0.0</td>\n",
       "      <td>0.0</td>\n",
       "      <td>0.0</td>\n",
       "      <td>596.0</td>\n",
       "    </tr>\n",
       "    <tr>\n",
       "      <th>1199999</th>\n",
       "      <td>-1.499425</td>\n",
       "      <td>-1.487043</td>\n",
       "      <td>-1.304587</td>\n",
       "      <td>-1.221307</td>\n",
       "      <td>1.459463</td>\n",
       "      <td>-0.646069</td>\n",
       "      <td>0.378433</td>\n",
       "      <td>-1.098145</td>\n",
       "      <td>0.439110</td>\n",
       "      <td>1.168196</td>\n",
       "      <td>...</td>\n",
       "      <td>0.0</td>\n",
       "      <td>3.0</td>\n",
       "      <td>3.0</td>\n",
       "      <td>0.0</td>\n",
       "      <td>2.0</td>\n",
       "      <td>1.0</td>\n",
       "      <td>1.0</td>\n",
       "      <td>1.0</td>\n",
       "      <td>2.0</td>\n",
       "      <td>2480.0</td>\n",
       "    </tr>\n",
       "  </tbody>\n",
       "</table>\n",
       "<p>1200000 rows × 22 columns</p>\n",
       "</div>"
      ],
      "text/plain": [
       "         num__Age  num__Number of Dependents  num__Health Score  \\\n",
       "0       -1.648301                  -0.746862          -0.249610   \n",
       "1       -0.159542                   0.733500          -0.844110   \n",
       "2       -1.350549                   0.733500           1.829212   \n",
       "3       -1.499425                  -0.006681          -1.235840   \n",
       "4       -1.499425                  -0.746862          -0.437598   \n",
       "...           ...                        ...                ...   \n",
       "1199995 -0.382856                  -1.487043          -0.996082   \n",
       "1199996  0.957026                  -0.006681          -1.189716   \n",
       "1199997 -1.648301                  -1.487043          -0.915601   \n",
       "1199998  1.031464                  -0.746862          -0.592267   \n",
       "1199999 -1.499425                  -1.487043          -1.304587   \n",
       "\n",
       "         num__Previous Claims  num__Vehicle Age  num__Credit Score  \\\n",
       "0                    1.216739          1.286338          -1.567375   \n",
       "1                   -0.002284          0.420713           0.714630   \n",
       "2                   -0.002284          0.766963           0.013020   \n",
       "3                   -0.002284         -1.656788          -1.602810   \n",
       "4                   -1.221307         -0.271787           0.034281   \n",
       "...                       ...               ...                ...   \n",
       "1199995             -0.002284         -0.791163          -1.567375   \n",
       "1199996             -0.002284          0.074463           0.027194   \n",
       "1199997             -1.221307          1.632588           0.013020   \n",
       "1199998             -0.002284         -0.444912          -1.319331   \n",
       "1199999             -1.221307          1.459463          -0.646069   \n",
       "\n",
       "         num__Insurance Duration  num__Year  num__Month  num__Day  ...  \\\n",
       "0                      -0.007023   0.934365    1.604378  0.827741  ...   \n",
       "1                      -1.163391   0.934365   -0.143523 -0.420596  ...   \n",
       "2                      -0.777935   0.934365    0.730427  1.622137  ...   \n",
       "3                      -1.548847   1.611868   -0.143523 -0.420596  ...   \n",
       "4                      -0.392479  -0.420641    1.604378 -1.668934  ...   \n",
       "...                          ...        ...         ...       ...  ...   \n",
       "1199995                -0.777935   0.934365   -0.434840 -1.441963  ...   \n",
       "1199996                -0.392479   0.256862    0.730427 -0.647567  ...   \n",
       "1199997                 0.378433  -0.420641   -0.434840  1.054711  ...   \n",
       "1199998                -0.392479  -0.420641    0.730427  0.373800  ...   \n",
       "1199999                 0.378433  -1.098145    0.439110  1.168196  ...   \n",
       "\n",
       "         cat__Marital Status  cat__Education Level  cat__Occupation  \\\n",
       "0                        1.0                   0.0              1.0   \n",
       "1                        0.0                   2.0              3.0   \n",
       "2                        0.0                   1.0              1.0   \n",
       "3                        1.0                   0.0              3.0   \n",
       "4                        2.0                   0.0              1.0   \n",
       "...                      ...                   ...              ...   \n",
       "1199995                  1.0                   2.0              2.0   \n",
       "1199996                  0.0                   2.0              1.0   \n",
       "1199997                  0.0                   2.0              3.0   \n",
       "1199998                  2.0                   3.0              3.0   \n",
       "1199999                  0.0                   3.0              3.0   \n",
       "\n",
       "         cat__Location  cat__Policy Type  cat__Customer Feedback  \\\n",
       "0                  2.0               2.0                     2.0   \n",
       "1                  0.0               1.0                     0.0   \n",
       "2                  1.0               2.0                     1.0   \n",
       "3                  0.0               0.0                     2.0   \n",
       "4                  0.0               2.0                     2.0   \n",
       "...                ...               ...                     ...   \n",
       "1199995            2.0               2.0                     2.0   \n",
       "1199996            0.0               1.0                     2.0   \n",
       "1199997            1.0               0.0                     1.0   \n",
       "1199998            1.0               2.0                     2.0   \n",
       "1199999            0.0               2.0                     1.0   \n",
       "\n",
       "         cat__Smoking Status  cat__Exercise Frequency  cat__Property Type  \\\n",
       "0                        0.0                      3.0                 2.0   \n",
       "1                        1.0                      1.0                 2.0   \n",
       "2                        1.0                      3.0                 2.0   \n",
       "3                        1.0                      0.0                 0.0   \n",
       "4                        1.0                      3.0                 2.0   \n",
       "...                      ...                      ...                 ...   \n",
       "1199995                  0.0                      0.0                 0.0   \n",
       "1199996                  0.0                      3.0                 0.0   \n",
       "1199997                  0.0                      1.0                 1.0   \n",
       "1199998                  0.0                      0.0                 0.0   \n",
       "1199999                  1.0                      1.0                 2.0   \n",
       "\n",
       "         Premium Amount  \n",
       "0                2869.0  \n",
       "1                1483.0  \n",
       "2                 567.0  \n",
       "3                 765.0  \n",
       "4                2022.0  \n",
       "...                 ...  \n",
       "1199995          1303.0  \n",
       "1199996           821.0  \n",
       "1199997           371.0  \n",
       "1199998           596.0  \n",
       "1199999          2480.0  \n",
       "\n",
       "[1200000 rows x 22 columns]"
      ]
     },
     "execution_count": 9,
     "metadata": {},
     "output_type": "execute_result"
    }
   ],
   "source": [
    "df_train_automl = pd.concat([df_train_processed, df_train['Premium Amount']], axis=1)\n",
    "df_train_automl"
   ]
  },
  {
   "cell_type": "code",
   "execution_count": 10,
   "id": "ad945a25",
   "metadata": {
    "execution": {
     "iopub.execute_input": "2024-12-31T18:14:44.048110Z",
     "iopub.status.busy": "2024-12-31T18:14:44.047738Z",
     "iopub.status.idle": "2024-12-31T18:14:44.067245Z",
     "shell.execute_reply": "2024-12-31T18:14:44.066291Z"
    },
    "papermill": {
     "duration": 0.030447,
     "end_time": "2024-12-31T18:14:44.068974",
     "exception": false,
     "start_time": "2024-12-31T18:14:44.038527",
     "status": "completed"
    },
    "tags": []
   },
   "outputs": [
    {
     "data": {
      "text/plain": [
       "0          7.961719\n",
       "1          7.301822\n",
       "2          6.340359\n",
       "3          6.639876\n",
       "4          7.611842\n",
       "             ...   \n",
       "1199995    7.172425\n",
       "1199996    6.710523\n",
       "1199997    5.916202\n",
       "1199998    6.390241\n",
       "1199999    7.816014\n",
       "Name: Premium Amount, Length: 1200000, dtype: float64"
      ]
     },
     "execution_count": 10,
     "metadata": {},
     "output_type": "execute_result"
    }
   ],
   "source": [
    "df_train_automl['Premium Amount'] = np.log(df_train_automl['Premium Amount'])\n",
    "df_train_automl['Premium Amount']"
   ]
  },
  {
   "cell_type": "markdown",
   "id": "b3e62450",
   "metadata": {
    "papermill": {
     "duration": 0.008089,
     "end_time": "2024-12-31T18:14:44.085611",
     "exception": false,
     "start_time": "2024-12-31T18:14:44.077522",
     "status": "completed"
    },
    "tags": []
   },
   "source": [
    "## LightAutoML"
   ]
  },
  {
   "cell_type": "code",
   "execution_count": 11,
   "id": "a919cfe1",
   "metadata": {
    "execution": {
     "iopub.execute_input": "2024-12-31T18:14:44.103757Z",
     "iopub.status.busy": "2024-12-31T18:14:44.103411Z",
     "iopub.status.idle": "2024-12-31T18:14:44.110105Z",
     "shell.execute_reply": "2024-12-31T18:14:44.109148Z"
    },
    "papermill": {
     "duration": 0.017672,
     "end_time": "2024-12-31T18:14:44.111648",
     "exception": false,
     "start_time": "2024-12-31T18:14:44.093976",
     "status": "completed"
    },
    "tags": []
   },
   "outputs": [],
   "source": [
    "def map_class(x, task, reader):\n",
    "    if task.name == 'multiclass':\n",
    "        return reader[x]\n",
    "    else:\n",
    "        return x\n",
    "\n",
    "mapped = np.vectorize(map_class)\n",
    "\n",
    "def score(task, y_true, y_pred):\n",
    "    if task.name == 'binary':\n",
    "        return roc_auc_score(y_true, y_pred)\n",
    "    elif task.name == 'multiclass':\n",
    "        return accuracy_score(y_true, np.argmax(y_pred, 1))\n",
    "    elif task.name == 'reg' or task.name == 'multi:reg':\n",
    "        return median_absolute_error(y_true, y_pred)\n",
    "    else:\n",
    "        raise 'Task is not correct.'\n",
    "        \n",
    "def take_pred_from_task(pred, task):\n",
    "    if task.name == 'binary' or task.name == 'reg':\n",
    "        return pred[:, 0]\n",
    "    elif task.name == 'multiclass' or task.name == 'multi:reg':\n",
    "        return pred\n",
    "    else:\n",
    "        raise 'Task is not correct.'\n",
    "        \n",
    "def use_plr(USE_PLR):\n",
    "    if USE_PLR:\n",
    "        return \"plr\"\n",
    "    else:\n",
    "        return \"cont\""
   ]
  },
  {
   "cell_type": "code",
   "execution_count": 12,
   "id": "31ecf0f4",
   "metadata": {
    "execution": {
     "iopub.execute_input": "2024-12-31T18:14:44.131520Z",
     "iopub.status.busy": "2024-12-31T18:14:44.131135Z",
     "iopub.status.idle": "2024-12-31T18:14:44.139997Z",
     "shell.execute_reply": "2024-12-31T18:14:44.138200Z"
    },
    "papermill": {
     "duration": 0.021444,
     "end_time": "2024-12-31T18:14:44.141667",
     "exception": false,
     "start_time": "2024-12-31T18:14:44.120223",
     "status": "completed"
    },
    "tags": []
   },
   "outputs": [],
   "source": [
    "RANDOM_STATE = 42\n",
    "N_THREADS = os.cpu_count()\n",
    "TIMEOUT = 9 * 3600\n",
    "N_FOLDS = 10\n",
    "TARGET = 'Premium Amount'\n",
    "np.random.seed(RANDOM_STATE)\n",
    "torch.set_num_threads(N_THREADS)"
   ]
  },
  {
   "cell_type": "code",
   "execution_count": 13,
   "id": "fc42556e",
   "metadata": {
    "execution": {
     "iopub.execute_input": "2024-12-31T18:14:44.164782Z",
     "iopub.status.busy": "2024-12-31T18:14:44.164399Z",
     "iopub.status.idle": "2024-12-31T18:14:44.169298Z",
     "shell.execute_reply": "2024-12-31T18:14:44.168572Z"
    },
    "papermill": {
     "duration": 0.018611,
     "end_time": "2024-12-31T18:14:44.171019",
     "exception": false,
     "start_time": "2024-12-31T18:14:44.152408",
     "status": "completed"
    },
    "tags": []
   },
   "outputs": [],
   "source": [
    "# task = Task('reg') \n",
    "# automl = TabularAutoML(\n",
    "#     task = task, \n",
    "#     timeout = 9 * 3600,\n",
    "#     cpu_limit = os.cpu_count(),\n",
    "#     nn_params = {\n",
    "#     'stop_by_metric': True,\n",
    "#     'verbose_bar': True},\n",
    "#     nn_pipeline_params = {\"use_qnt\": False, \"use_te\": False},\n",
    "#     reader_params = {'n_jobs': N_THREADS, 'cv': N_FOLDS, 'random_state': RANDOM_STATE, 'advanced_roles': True}\n",
    "# )"
   ]
  },
  {
   "cell_type": "code",
   "execution_count": 14,
   "id": "c17c573c",
   "metadata": {
    "execution": {
     "iopub.execute_input": "2024-12-31T18:14:44.193735Z",
     "iopub.status.busy": "2024-12-31T18:14:44.193395Z",
     "iopub.status.idle": "2024-12-31T18:14:44.233646Z",
     "shell.execute_reply": "2024-12-31T18:14:44.232709Z"
    },
    "papermill": {
     "duration": 0.05355,
     "end_time": "2024-12-31T18:14:44.235522",
     "exception": false,
     "start_time": "2024-12-31T18:14:44.181972",
     "status": "completed"
    },
    "tags": []
   },
   "outputs": [],
   "source": [
    "task = Task('reg') \n",
    "automl = TabularAutoML(\n",
    "    task = task,\n",
    "    timeout = TIMEOUT,\n",
    "    cpu_limit = N_THREADS,\n",
    "    general_params = {\"use_algos\": [[\"nn\"]]}, # ['nn', 'mlp', 'dense', 'denselight', 'resnet', 'snn', 'node', 'autoint', 'fttransformer'] or custom torch model\n",
    "    nn_params = {\n",
    "        \"n_epochs\": 10, \n",
    "        \"bs\": 1024, \n",
    "        \"num_workers\": 0, \n",
    "        \"path_to_save\": None, \n",
    "        \"freeze_defaults\": True,\n",
    "        \"cont_embedder\": 'plr',\n",
    "        'cat_embedder': 'weighted',\n",
    "        \"hidden_size\": 128,\n",
    "        'hid_factor': [4, 4],\n",
    "        'block_config': [4, 4],\n",
    "        'embedding_size': 64, \n",
    "        'stop_by_metric': True,\n",
    "        'verbose_bar': True,\n",
    "        \"snap_params\": { 'k': 2, 'early_stopping': True, 'patience': 2, 'swa': True}\n",
    "},\n",
    "    nn_pipeline_params = {\"use_qnt\": True, \"use_te\": False},\n",
    "    reader_params = {'n_jobs': N_THREADS, 'cv': N_FOLDS, 'random_state': RANDOM_STATE}\n",
    ")"
   ]
  },
  {
   "cell_type": "code",
   "execution_count": 15,
   "id": "b37806d0",
   "metadata": {
    "_kg_hide-output": true,
    "execution": {
     "iopub.execute_input": "2024-12-31T18:14:44.253896Z",
     "iopub.status.busy": "2024-12-31T18:14:44.253557Z",
     "iopub.status.idle": "2024-12-31T21:50:27.396075Z",
     "shell.execute_reply": "2024-12-31T21:50:27.394804Z"
    },
    "papermill": {
     "duration": 12943.153665,
     "end_time": "2024-12-31T21:50:27.397890",
     "exception": false,
     "start_time": "2024-12-31T18:14:44.244225",
     "status": "completed"
    },
    "scrolled": true,
    "tags": []
   },
   "outputs": [
    {
     "name": "stdout",
     "output_type": "stream",
     "text": [
      "[18:14:44] Stdout logging level is INFO3.\n",
      "[18:14:44] Copying TaskTimer may affect the parent PipelineTimer, so copy will create new unlimited TaskTimer\n",
      "[18:14:44] Task: reg\n",
      "\n",
      "[18:14:44] Start automl preset with listed constraints:\n",
      "[18:14:44] - time: 32400.00 seconds\n",
      "[18:14:44] - CPU: 4 cores\n",
      "[18:14:44] - memory: 16 GB\n",
      "\n",
      "[18:14:44] \u001b[1mTrain data shape: (1200000, 22)\u001b[0m\n",
      "\n",
      "[18:14:54] Feats was rejected during automatic roles guess: []\n",
      "[18:14:54] Layer \u001b[1m1\u001b[0m train process start. Time left 32389.38 secs\n",
      "[18:15:03] Start fitting \u001b[1mLvl_0_Pipe_0_Mod_0_TorchNN_mlp_0\u001b[0m ...\n",
      "[18:15:04] ===== Start working with \u001b[1mfold 0\u001b[0m for \u001b[1mLvl_0_Pipe_0_Mod_0_TorchNN_mlp_0\u001b[0m =====\n"
     ]
    },
    {
     "name": "stderr",
     "output_type": "stream",
     "text": [
      "train (loss=1.1707): 100%|██████████| 1054/1054 [01:48<00:00,  9.73it/s]\n",
      "val: 100%|██████████| 118/118 [00:05<00:00, 22.67it/s]\n"
     ]
    },
    {
     "name": "stdout",
     "output_type": "stream",
     "text": [
      "[18:16:59] Epoch: 0, train loss: 1.1706992387771606, val loss: 1.1590420007705688, val metric: -1.157461166381836\n"
     ]
    },
    {
     "name": "stderr",
     "output_type": "stream",
     "text": [
      "train (loss=1.15591): 100%|██████████| 1054/1054 [01:53<00:00,  9.28it/s]\n",
      "val: 100%|██████████| 118/118 [00:03<00:00, 32.02it/s]"
     ]
    },
    {
     "name": "stdout",
     "output_type": "stream",
     "text": [
      "[18:18:56] Epoch: 1, train loss: 1.1559059619903564, val loss: 1.154036521911621, val metric: -1.1524152755737305\n"
     ]
    },
    {
     "name": "stderr",
     "output_type": "stream",
     "text": [
      "\n",
      "train (loss=1.15133): 100%|██████████| 1054/1054 [02:00<00:00,  8.73it/s]\n",
      "val: 100%|██████████| 118/118 [00:03<00:00, 29.54it/s]"
     ]
    },
    {
     "name": "stdout",
     "output_type": "stream",
     "text": [
      "[18:21:01] Epoch: 2, train loss: 1.1513324975967407, val loss: 1.1522247791290283, val metric: -1.1505287885665894\n"
     ]
    },
    {
     "name": "stderr",
     "output_type": "stream",
     "text": [
      "\n",
      "train (loss=1.14835): 100%|██████████| 1054/1054 [01:48<00:00,  9.73it/s]\n",
      "val: 100%|██████████| 118/118 [00:04<00:00, 28.53it/s]"
     ]
    },
    {
     "name": "stdout",
     "output_type": "stream",
     "text": [
      "[18:22:53] Epoch: 3, train loss: 1.1483540534973145, val loss: 1.1449040174484253, val metric: -1.1431682109832764\n"
     ]
    },
    {
     "name": "stderr",
     "output_type": "stream",
     "text": [
      "\n",
      "train (loss=1.14511): 100%|██████████| 1054/1054 [01:46<00:00,  9.87it/s]\n",
      "val: 100%|██████████| 118/118 [00:03<00:00, 31.74it/s]"
     ]
    },
    {
     "name": "stdout",
     "output_type": "stream",
     "text": [
      "[18:24:44] Epoch: 4, train loss: 1.145111083984375, val loss: 1.141453504562378, val metric: -1.1396876573562622\n"
     ]
    },
    {
     "name": "stderr",
     "output_type": "stream",
     "text": [
      "\n",
      "train (loss=1.14214): 100%|██████████| 1054/1054 [01:49<00:00,  9.61it/s]\n",
      "val: 100%|██████████| 118/118 [00:03<00:00, 34.10it/s]"
     ]
    },
    {
     "name": "stdout",
     "output_type": "stream",
     "text": [
      "[18:26:37] Epoch: 5, train loss: 1.1421352624893188, val loss: 1.1385009288787842, val metric: -1.1367539167404175\n"
     ]
    },
    {
     "name": "stderr",
     "output_type": "stream",
     "text": [
      "\n",
      "train (loss=1.1394): 100%|██████████| 1054/1054 [01:50<00:00,  9.50it/s]\n",
      "val: 100%|██████████| 118/118 [00:04<00:00, 26.54it/s]"
     ]
    },
    {
     "name": "stdout",
     "output_type": "stream",
     "text": [
      "[18:28:32] Epoch: 6, train loss: 1.1394034624099731, val loss: 1.1354105472564697, val metric: -1.1337623596191406\n"
     ]
    },
    {
     "name": "stderr",
     "output_type": "stream",
     "text": [
      "\n",
      "train (loss=1.13798): 100%|██████████| 1054/1054 [01:52<00:00,  9.33it/s]\n",
      "val: 100%|██████████| 118/118 [00:03<00:00, 32.44it/s]"
     ]
    },
    {
     "name": "stdout",
     "output_type": "stream",
     "text": [
      "[18:30:29] Epoch: 7, train loss: 1.1379843950271606, val loss: 1.1338040828704834, val metric: -1.1319953203201294\n"
     ]
    },
    {
     "name": "stderr",
     "output_type": "stream",
     "text": [
      "\n",
      "train (loss=1.13621): 100%|██████████| 1054/1054 [01:53<00:00,  9.29it/s]\n",
      "val: 100%|██████████| 118/118 [00:03<00:00, 33.58it/s]"
     ]
    },
    {
     "name": "stdout",
     "output_type": "stream",
     "text": [
      "[18:32:26] Epoch: 8, train loss: 1.136205792427063, val loss: 1.1314940452575684, val metric: -1.1297967433929443\n"
     ]
    },
    {
     "name": "stderr",
     "output_type": "stream",
     "text": [
      "\n",
      "train (loss=1.13439): 100%|██████████| 1054/1054 [01:51<00:00,  9.43it/s]\n",
      "val: 100%|██████████| 118/118 [00:03<00:00, 31.34it/s]"
     ]
    },
    {
     "name": "stdout",
     "output_type": "stream",
     "text": [
      "[18:34:21] Epoch: 9, train loss: 1.1343932151794434, val loss: 1.1313081979751587, val metric: -1.1295522451400757\n"
     ]
    },
    {
     "name": "stderr",
     "output_type": "stream",
     "text": [
      "\n",
      "val: 100%|██████████| 118/118 [00:03<00:00, 32.15it/s]"
     ]
    },
    {
     "name": "stdout",
     "output_type": "stream",
     "text": [
      "[18:34:25] Early stopping: val loss: 1.1302661895751953, val metric: -1.1285356283187866\n"
     ]
    },
    {
     "name": "stderr",
     "output_type": "stream",
     "text": [
      "\n"
     ]
    },
    {
     "name": "stdout",
     "output_type": "stream",
     "text": [
      "[18:34:26] ===== Start working with \u001b[1mfold 1\u001b[0m for \u001b[1mLvl_0_Pipe_0_Mod_0_TorchNN_mlp_0\u001b[0m =====\n"
     ]
    },
    {
     "name": "stderr",
     "output_type": "stream",
     "text": [
      "train (loss=1.17013): 100%|██████████| 1054/1054 [01:50<00:00,  9.57it/s]\n",
      "val: 100%|██████████| 118/118 [00:03<00:00, 32.38it/s]"
     ]
    },
    {
     "name": "stdout",
     "output_type": "stream",
     "text": [
      "[18:36:20] Epoch: 0, train loss: 1.1701257228851318, val loss: 1.1595215797424316, val metric: -1.1601589918136597\n"
     ]
    },
    {
     "name": "stderr",
     "output_type": "stream",
     "text": [
      "\n",
      "train (loss=1.15566): 100%|██████████| 1054/1054 [01:48<00:00,  9.68it/s]\n",
      "val: 100%|██████████| 118/118 [00:05<00:00, 23.52it/s]"
     ]
    },
    {
     "name": "stdout",
     "output_type": "stream",
     "text": [
      "[18:38:14] Epoch: 1, train loss: 1.1556594371795654, val loss: 1.1507455110549927, val metric: -1.1512573957443237\n"
     ]
    },
    {
     "name": "stderr",
     "output_type": "stream",
     "text": [
      "\n",
      "train (loss=1.15205): 100%|██████████| 1054/1054 [01:55<00:00,  9.16it/s]\n",
      "val: 100%|██████████| 118/118 [00:03<00:00, 29.59it/s]"
     ]
    },
    {
     "name": "stdout",
     "output_type": "stream",
     "text": [
      "[18:40:13] Epoch: 2, train loss: 1.1520534753799438, val loss: 1.1482281684875488, val metric: -1.1486903429031372\n"
     ]
    },
    {
     "name": "stderr",
     "output_type": "stream",
     "text": [
      "\n",
      "train (loss=1.14833): 100%|██████████| 1054/1054 [01:54<00:00,  9.21it/s]\n",
      "val: 100%|██████████| 118/118 [00:03<00:00, 32.78it/s]\n"
     ]
    },
    {
     "name": "stdout",
     "output_type": "stream",
     "text": [
      "[18:42:11] Epoch: 3, train loss: 1.1483330726623535, val loss: 1.1450132131576538, val metric: -1.1455432176589966\n"
     ]
    },
    {
     "name": "stderr",
     "output_type": "stream",
     "text": [
      "train (loss=1.14511): 100%|██████████| 1054/1054 [01:55<00:00,  9.12it/s]\n",
      "val: 100%|██████████| 118/118 [00:03<00:00, 30.31it/s]"
     ]
    },
    {
     "name": "stdout",
     "output_type": "stream",
     "text": [
      "[18:44:10] Epoch: 4, train loss: 1.1451091766357422, val loss: 1.140810251235962, val metric: -1.1415115594863892\n"
     ]
    },
    {
     "name": "stderr",
     "output_type": "stream",
     "text": [
      "\n",
      "train (loss=1.14232): 100%|██████████| 1054/1054 [02:05<00:00,  8.40it/s]\n",
      "val: 100%|██████████| 118/118 [00:03<00:00, 29.80it/s]"
     ]
    },
    {
     "name": "stdout",
     "output_type": "stream",
     "text": [
      "[18:46:20] Epoch: 5, train loss: 1.142316222190857, val loss: 1.1382739543914795, val metric: -1.138814091682434\n"
     ]
    },
    {
     "name": "stderr",
     "output_type": "stream",
     "text": [
      "\n",
      "train (loss=1.1402): 100%|██████████| 1054/1054 [02:07<00:00,  8.24it/s]\n",
      "val: 100%|██████████| 118/118 [00:03<00:00, 30.25it/s]"
     ]
    },
    {
     "name": "stdout",
     "output_type": "stream",
     "text": [
      "[18:48:32] Epoch: 6, train loss: 1.1402003765106201, val loss: 1.1343375444412231, val metric: -1.135029911994934\n"
     ]
    },
    {
     "name": "stderr",
     "output_type": "stream",
     "text": [
      "\n",
      "train (loss=1.13882): 100%|██████████| 1054/1054 [02:11<00:00,  8.00it/s]\n",
      "val: 100%|██████████| 118/118 [00:03<00:00, 30.80it/s]"
     ]
    },
    {
     "name": "stdout",
     "output_type": "stream",
     "text": [
      "[18:50:47] Epoch: 7, train loss: 1.1388189792633057, val loss: 1.133198857307434, val metric: -1.1338144540786743\n"
     ]
    },
    {
     "name": "stderr",
     "output_type": "stream",
     "text": [
      "\n",
      "train (loss=1.13715): 100%|██████████| 1054/1054 [02:12<00:00,  7.96it/s]\n",
      "val: 100%|██████████| 118/118 [00:03<00:00, 31.06it/s]"
     ]
    },
    {
     "name": "stdout",
     "output_type": "stream",
     "text": [
      "[18:53:04] Epoch: 8, train loss: 1.137151837348938, val loss: 1.1316313743591309, val metric: -1.1322556734085083\n"
     ]
    },
    {
     "name": "stderr",
     "output_type": "stream",
     "text": [
      "\n",
      "train (loss=1.13579): 100%|██████████| 1054/1054 [02:11<00:00,  8.00it/s]\n",
      "val: 100%|██████████| 118/118 [00:03<00:00, 33.35it/s]"
     ]
    },
    {
     "name": "stdout",
     "output_type": "stream",
     "text": [
      "[18:55:19] Epoch: 9, train loss: 1.1357901096343994, val loss: 1.1292519569396973, val metric: -1.1298476457595825\n"
     ]
    },
    {
     "name": "stderr",
     "output_type": "stream",
     "text": [
      "\n",
      "val: 100%|██████████| 118/118 [00:03<00:00, 31.65it/s]"
     ]
    },
    {
     "name": "stdout",
     "output_type": "stream",
     "text": [
      "[18:55:23] Early stopping: val loss: 1.1290949583053589, val metric: -1.129709243774414\n"
     ]
    },
    {
     "name": "stderr",
     "output_type": "stream",
     "text": [
      "\n"
     ]
    },
    {
     "name": "stdout",
     "output_type": "stream",
     "text": [
      "[18:55:23] ===== Start working with \u001b[1mfold 2\u001b[0m for \u001b[1mLvl_0_Pipe_0_Mod_0_TorchNN_mlp_0\u001b[0m =====\n"
     ]
    },
    {
     "name": "stderr",
     "output_type": "stream",
     "text": [
      "train (loss=1.17057): 100%|██████████| 1054/1054 [02:03<00:00,  8.52it/s]\n",
      "val: 100%|██████████| 118/118 [00:03<00:00, 30.62it/s]"
     ]
    },
    {
     "name": "stdout",
     "output_type": "stream",
     "text": [
      "[18:57:31] Epoch: 0, train loss: 1.1705650091171265, val loss: 1.1588153839111328, val metric: -1.1619770526885986\n"
     ]
    },
    {
     "name": "stderr",
     "output_type": "stream",
     "text": [
      "\n",
      "train (loss=1.15558): 100%|██████████| 1054/1054 [02:04<00:00,  8.48it/s]\n",
      "val: 100%|██████████| 118/118 [00:03<00:00, 30.53it/s]"
     ]
    },
    {
     "name": "stdout",
     "output_type": "stream",
     "text": [
      "[18:59:39] Epoch: 1, train loss: 1.1555756330490112, val loss: 1.1509102582931519, val metric: -1.154089331626892\n"
     ]
    },
    {
     "name": "stderr",
     "output_type": "stream",
     "text": [
      "\n",
      "train (loss=1.15095): 100%|██████████| 1054/1054 [02:10<00:00,  8.10it/s]\n",
      "val: 100%|██████████| 118/118 [00:03<00:00, 30.16it/s]"
     ]
    },
    {
     "name": "stdout",
     "output_type": "stream",
     "text": [
      "[19:01:53] Epoch: 2, train loss: 1.150952696800232, val loss: 1.147628903388977, val metric: -1.150915265083313\n"
     ]
    },
    {
     "name": "stderr",
     "output_type": "stream",
     "text": [
      "\n",
      "train (loss=1.14646): 100%|██████████| 1054/1054 [02:12<00:00,  7.97it/s]\n",
      "val: 100%|██████████| 118/118 [00:03<00:00, 30.54it/s]"
     ]
    },
    {
     "name": "stdout",
     "output_type": "stream",
     "text": [
      "[19:04:09] Epoch: 3, train loss: 1.1464614868164062, val loss: 1.1425234079360962, val metric: -1.145643711090088\n"
     ]
    },
    {
     "name": "stderr",
     "output_type": "stream",
     "text": [
      "\n",
      "train (loss=1.14335): 100%|██████████| 1054/1054 [02:13<00:00,  7.89it/s]\n",
      "val: 100%|██████████| 118/118 [00:05<00:00, 21.69it/s]"
     ]
    },
    {
     "name": "stdout",
     "output_type": "stream",
     "text": [
      "[19:06:28] Epoch: 4, train loss: 1.1433531045913696, val loss: 1.1401281356811523, val metric: -1.1433647871017456\n"
     ]
    },
    {
     "name": "stderr",
     "output_type": "stream",
     "text": [
      "\n",
      "train (loss=1.14101): 100%|██████████| 1054/1054 [02:13<00:00,  7.88it/s]\n",
      "val: 100%|██████████| 118/118 [00:04<00:00, 29.49it/s]"
     ]
    },
    {
     "name": "stdout",
     "output_type": "stream",
     "text": [
      "[19:08:46] Epoch: 5, train loss: 1.14101243019104, val loss: 1.1365365982055664, val metric: -1.1396616697311401\n"
     ]
    },
    {
     "name": "stderr",
     "output_type": "stream",
     "text": [
      "\n",
      "train (loss=1.13887): 100%|██████████| 1054/1054 [02:09<00:00,  8.12it/s]\n",
      "val: 100%|██████████| 118/118 [00:03<00:00, 29.78it/s]"
     ]
    },
    {
     "name": "stdout",
     "output_type": "stream",
     "text": [
      "[19:11:00] Epoch: 6, train loss: 1.1388664245605469, val loss: 1.135676622390747, val metric: -1.1387484073638916\n"
     ]
    },
    {
     "name": "stderr",
     "output_type": "stream",
     "text": [
      "\n",
      "train (loss=1.13748): 100%|██████████| 1054/1054 [02:05<00:00,  8.37it/s]\n",
      "val: 100%|██████████| 118/118 [00:03<00:00, 29.78it/s]"
     ]
    },
    {
     "name": "stdout",
     "output_type": "stream",
     "text": [
      "[19:13:10] Epoch: 7, train loss: 1.1374790668487549, val loss: 1.1329798698425293, val metric: -1.1359950304031372\n"
     ]
    },
    {
     "name": "stderr",
     "output_type": "stream",
     "text": [
      "\n",
      "train (loss=1.13588): 100%|██████████| 1054/1054 [02:12<00:00,  7.93it/s]\n",
      "val: 100%|██████████| 118/118 [00:03<00:00, 30.26it/s]"
     ]
    },
    {
     "name": "stdout",
     "output_type": "stream",
     "text": [
      "[19:15:27] Epoch: 8, train loss: 1.1358779668807983, val loss: 1.132494568824768, val metric: -1.1356785297393799\n"
     ]
    },
    {
     "name": "stderr",
     "output_type": "stream",
     "text": [
      "\n",
      "train (loss=1.13418): 100%|██████████| 1054/1054 [02:17<00:00,  7.66it/s]\n",
      "val: 100%|██████████| 118/118 [00:03<00:00, 30.66it/s]"
     ]
    },
    {
     "name": "stdout",
     "output_type": "stream",
     "text": [
      "[19:17:48] Epoch: 9, train loss: 1.1341824531555176, val loss: 1.130034327507019, val metric: -1.1331725120544434\n"
     ]
    },
    {
     "name": "stderr",
     "output_type": "stream",
     "text": [
      "\n",
      "val: 100%|██████████| 118/118 [00:06<00:00, 18.34it/s]"
     ]
    },
    {
     "name": "stdout",
     "output_type": "stream",
     "text": [
      "[19:17:55] Early stopping: val loss: 1.129538893699646, val metric: -1.132686734199524\n"
     ]
    },
    {
     "name": "stderr",
     "output_type": "stream",
     "text": [
      "\n"
     ]
    },
    {
     "name": "stdout",
     "output_type": "stream",
     "text": [
      "[19:17:55] ===== Start working with \u001b[1mfold 3\u001b[0m for \u001b[1mLvl_0_Pipe_0_Mod_0_TorchNN_mlp_0\u001b[0m =====\n"
     ]
    },
    {
     "name": "stderr",
     "output_type": "stream",
     "text": [
      "train (loss=1.17029): 100%|██████████| 1054/1054 [02:02<00:00,  8.60it/s]\n",
      "val: 100%|██████████| 118/118 [00:03<00:00, 30.27it/s]"
     ]
    },
    {
     "name": "stdout",
     "output_type": "stream",
     "text": [
      "[19:20:02] Epoch: 0, train loss: 1.1702920198440552, val loss: 1.147640347480774, val metric: -1.1477829217910767\n"
     ]
    },
    {
     "name": "stderr",
     "output_type": "stream",
     "text": [
      "\n",
      "train (loss=1.15581): 100%|██████████| 1054/1054 [02:13<00:00,  7.90it/s]\n",
      "val: 100%|██████████| 118/118 [00:03<00:00, 30.91it/s]"
     ]
    },
    {
     "name": "stdout",
     "output_type": "stream",
     "text": [
      "[19:22:19] Epoch: 1, train loss: 1.1558054685592651, val loss: 1.1425858736038208, val metric: -1.142795443534851\n"
     ]
    },
    {
     "name": "stderr",
     "output_type": "stream",
     "text": [
      "\n",
      "train (loss=1.15207): 100%|██████████| 1054/1054 [02:21<00:00,  7.46it/s]\n",
      "val: 100%|██████████| 118/118 [00:03<00:00, 30.88it/s]"
     ]
    },
    {
     "name": "stdout",
     "output_type": "stream",
     "text": [
      "[19:24:44] Epoch: 2, train loss: 1.152068853378296, val loss: 1.1400525569915771, val metric: -1.1402252912521362\n"
     ]
    },
    {
     "name": "stderr",
     "output_type": "stream",
     "text": [
      "\n",
      "train (loss=1.1485): 100%|██████████| 1054/1054 [02:08<00:00,  8.17it/s]\n",
      "val: 100%|██████████| 118/118 [00:06<00:00, 19.32it/s]"
     ]
    },
    {
     "name": "stdout",
     "output_type": "stream",
     "text": [
      "[19:26:59] Epoch: 3, train loss: 1.1484988927841187, val loss: 1.134251356124878, val metric: -1.1343705654144287\n"
     ]
    },
    {
     "name": "stderr",
     "output_type": "stream",
     "text": [
      "\n",
      "train (loss=1.14539): 100%|██████████| 1054/1054 [02:07<00:00,  8.26it/s]\n",
      "val: 100%|██████████| 118/118 [00:03<00:00, 29.74it/s]"
     ]
    },
    {
     "name": "stdout",
     "output_type": "stream",
     "text": [
      "[19:29:11] Epoch: 4, train loss: 1.1453876495361328, val loss: 1.1323457956314087, val metric: -1.1325000524520874\n"
     ]
    },
    {
     "name": "stderr",
     "output_type": "stream",
     "text": [
      "\n",
      "train (loss=1.14298): 100%|██████████| 1054/1054 [02:07<00:00,  8.26it/s]\n",
      "val: 100%|██████████| 118/118 [00:03<00:00, 30.85it/s]"
     ]
    },
    {
     "name": "stdout",
     "output_type": "stream",
     "text": [
      "[19:31:22] Epoch: 5, train loss: 1.1429765224456787, val loss: 1.128645896911621, val metric: -1.128777027130127\n"
     ]
    },
    {
     "name": "stderr",
     "output_type": "stream",
     "text": [
      "\n",
      "train (loss=1.1407): 100%|██████████| 1054/1054 [02:08<00:00,  8.23it/s]\n",
      "val: 100%|██████████| 118/118 [00:09<00:00, 12.39it/s]"
     ]
    },
    {
     "name": "stdout",
     "output_type": "stream",
     "text": [
      "[19:33:40] Epoch: 6, train loss: 1.140701174736023, val loss: 1.1258288621902466, val metric: -1.1259537935256958\n"
     ]
    },
    {
     "name": "stderr",
     "output_type": "stream",
     "text": [
      "\n",
      "train (loss=1.13823): 100%|██████████| 1054/1054 [02:03<00:00,  8.54it/s]\n",
      "val: 100%|██████████| 118/118 [00:04<00:00, 23.85it/s]"
     ]
    },
    {
     "name": "stdout",
     "output_type": "stream",
     "text": [
      "[19:35:48] Epoch: 7, train loss: 1.138228416442871, val loss: 1.1256223917007446, val metric: -1.125751256942749\n"
     ]
    },
    {
     "name": "stderr",
     "output_type": "stream",
     "text": [
      "\n",
      "train (loss=1.13653): 100%|██████████| 1054/1054 [02:11<00:00,  8.01it/s]\n",
      "val: 100%|██████████| 118/118 [00:03<00:00, 32.14it/s]"
     ]
    },
    {
     "name": "stdout",
     "output_type": "stream",
     "text": [
      "[19:38:04] Epoch: 8, train loss: 1.1365296840667725, val loss: 1.1250641345977783, val metric: -1.125115156173706\n"
     ]
    },
    {
     "name": "stderr",
     "output_type": "stream",
     "text": [
      "\n",
      "train (loss=1.13526): 100%|██████████| 1054/1054 [01:58<00:00,  8.93it/s]\n",
      "val: 100%|██████████| 118/118 [00:09<00:00, 12.70it/s]"
     ]
    },
    {
     "name": "stdout",
     "output_type": "stream",
     "text": [
      "[19:40:11] Epoch: 9, train loss: 1.1352566480636597, val loss: 1.122684359550476, val metric: -1.122801661491394\n"
     ]
    },
    {
     "name": "stderr",
     "output_type": "stream",
     "text": [
      "\n",
      "val: 100%|██████████| 118/118 [00:03<00:00, 32.33it/s]"
     ]
    },
    {
     "name": "stdout",
     "output_type": "stream",
     "text": [
      "[19:40:15] Early stopping: val loss: 1.122257947921753, val metric: -1.1223446130752563\n"
     ]
    },
    {
     "name": "stderr",
     "output_type": "stream",
     "text": [
      "\n"
     ]
    },
    {
     "name": "stdout",
     "output_type": "stream",
     "text": [
      "[19:40:15] ===== Start working with \u001b[1mfold 4\u001b[0m for \u001b[1mLvl_0_Pipe_0_Mod_0_TorchNN_mlp_0\u001b[0m =====\n"
     ]
    },
    {
     "name": "stderr",
     "output_type": "stream",
     "text": [
      "train (loss=1.1698): 100%|██████████| 1054/1054 [01:53<00:00,  9.29it/s]\n",
      "val: 100%|██████████| 118/118 [00:03<00:00, 31.45it/s]"
     ]
    },
    {
     "name": "stdout",
     "output_type": "stream",
     "text": [
      "[19:42:13] Epoch: 0, train loss: 1.1697957515716553, val loss: 1.16256844997406, val metric: -1.162170648574829\n"
     ]
    },
    {
     "name": "stderr",
     "output_type": "stream",
     "text": [
      "\n",
      "train (loss=1.15522): 100%|██████████| 1054/1054 [01:57<00:00,  8.95it/s]\n",
      "val: 100%|██████████| 118/118 [00:03<00:00, 31.77it/s]"
     ]
    },
    {
     "name": "stdout",
     "output_type": "stream",
     "text": [
      "[19:44:14] Epoch: 1, train loss: 1.155217170715332, val loss: 1.1540589332580566, val metric: -1.1537545919418335\n"
     ]
    },
    {
     "name": "stderr",
     "output_type": "stream",
     "text": [
      "\n",
      "train (loss=1.15079): 100%|██████████| 1054/1054 [01:58<00:00,  8.88it/s]\n",
      "val: 100%|██████████| 118/118 [00:03<00:00, 32.58it/s]"
     ]
    },
    {
     "name": "stdout",
     "output_type": "stream",
     "text": [
      "[19:46:17] Epoch: 2, train loss: 1.1507936716079712, val loss: 1.1496307849884033, val metric: -1.1493408679962158\n"
     ]
    },
    {
     "name": "stderr",
     "output_type": "stream",
     "text": [
      "\n",
      "train (loss=1.14692): 100%|██████████| 1054/1054 [01:57<00:00,  8.96it/s]\n",
      "val: 100%|██████████| 118/118 [00:03<00:00, 31.78it/s]"
     ]
    },
    {
     "name": "stdout",
     "output_type": "stream",
     "text": [
      "[19:48:18] Epoch: 3, train loss: 1.1469168663024902, val loss: 1.145394206047058, val metric: -1.1451900005340576\n"
     ]
    },
    {
     "name": "stderr",
     "output_type": "stream",
     "text": [
      "\n",
      "train (loss=1.14339): 100%|██████████| 1054/1054 [02:13<00:00,  7.91it/s]\n",
      "val: 100%|██████████| 118/118 [00:04<00:00, 29.48it/s]\n"
     ]
    },
    {
     "name": "stdout",
     "output_type": "stream",
     "text": [
      "[19:50:35] Epoch: 4, train loss: 1.1433861255645752, val loss: 1.144510269165039, val metric: -1.1442151069641113\n"
     ]
    },
    {
     "name": "stderr",
     "output_type": "stream",
     "text": [
      "train (loss=1.14175): 100%|██████████| 1054/1054 [02:23<00:00,  7.35it/s]\n",
      "val: 100%|██████████| 118/118 [00:04<00:00, 28.91it/s]"
     ]
    },
    {
     "name": "stdout",
     "output_type": "stream",
     "text": [
      "[19:53:03] Epoch: 5, train loss: 1.141750454902649, val loss: 1.142403244972229, val metric: -1.1421233415603638\n"
     ]
    },
    {
     "name": "stderr",
     "output_type": "stream",
     "text": [
      "\n",
      "train (loss=1.13981): 100%|██████████| 1054/1054 [02:10<00:00,  8.09it/s]\n",
      "val: 100%|██████████| 118/118 [00:03<00:00, 32.40it/s]"
     ]
    },
    {
     "name": "stdout",
     "output_type": "stream",
     "text": [
      "[19:55:17] Epoch: 6, train loss: 1.139808177947998, val loss: 1.1376904249191284, val metric: -1.1374006271362305\n"
     ]
    },
    {
     "name": "stderr",
     "output_type": "stream",
     "text": [
      "\n",
      "train (loss=1.1378): 100%|██████████| 1054/1054 [02:04<00:00,  8.45it/s]\n",
      "val: 100%|██████████| 118/118 [00:03<00:00, 32.48it/s]"
     ]
    },
    {
     "name": "stdout",
     "output_type": "stream",
     "text": [
      "[19:57:25] Epoch: 7, train loss: 1.1377958059310913, val loss: 1.1373692750930786, val metric: -1.1371151208877563\n"
     ]
    },
    {
     "name": "stderr",
     "output_type": "stream",
     "text": [
      "\n",
      "train (loss=1.13716): 100%|██████████| 1054/1054 [02:07<00:00,  8.27it/s]\n",
      "val: 100%|██████████| 118/118 [00:03<00:00, 33.02it/s]"
     ]
    },
    {
     "name": "stdout",
     "output_type": "stream",
     "text": [
      "[19:59:36] Epoch: 8, train loss: 1.1371601819992065, val loss: 1.1357723474502563, val metric: -1.135572910308838\n"
     ]
    },
    {
     "name": "stderr",
     "output_type": "stream",
     "text": [
      "\n",
      "train (loss=1.13568): 100%|██████████| 1054/1054 [02:08<00:00,  8.22it/s]\n",
      "val: 100%|██████████| 118/118 [00:03<00:00, 32.91it/s]"
     ]
    },
    {
     "name": "stdout",
     "output_type": "stream",
     "text": [
      "[20:01:48] Epoch: 9, train loss: 1.1356807947158813, val loss: 1.1338956356048584, val metric: -1.1336685419082642\n"
     ]
    },
    {
     "name": "stderr",
     "output_type": "stream",
     "text": [
      "\n",
      "val: 100%|██████████| 118/118 [00:05<00:00, 22.31it/s]"
     ]
    },
    {
     "name": "stdout",
     "output_type": "stream",
     "text": [
      "[20:01:53] Early stopping: val loss: 1.1341431140899658, val metric: -1.1339255571365356\n"
     ]
    },
    {
     "name": "stderr",
     "output_type": "stream",
     "text": [
      "\n"
     ]
    },
    {
     "name": "stdout",
     "output_type": "stream",
     "text": [
      "[20:01:54] ===== Start working with \u001b[1mfold 5\u001b[0m for \u001b[1mLvl_0_Pipe_0_Mod_0_TorchNN_mlp_0\u001b[0m =====\n"
     ]
    },
    {
     "name": "stderr",
     "output_type": "stream",
     "text": [
      "train (loss=1.1712): 100%|██████████| 1054/1054 [01:52<00:00,  9.34it/s]\n",
      "val: 100%|██████████| 118/118 [00:03<00:00, 31.61it/s]"
     ]
    },
    {
     "name": "stdout",
     "output_type": "stream",
     "text": [
      "[20:03:51] Epoch: 0, train loss: 1.1711974143981934, val loss: 1.15207839012146, val metric: -1.15208101272583\n"
     ]
    },
    {
     "name": "stderr",
     "output_type": "stream",
     "text": [
      "\n",
      "train (loss=1.15597): 100%|██████████| 1054/1054 [02:03<00:00,  8.56it/s]\n",
      "val: 100%|██████████| 118/118 [00:03<00:00, 31.77it/s]"
     ]
    },
    {
     "name": "stdout",
     "output_type": "stream",
     "text": [
      "[20:05:58] Epoch: 1, train loss: 1.1559709310531616, val loss: 1.146134853363037, val metric: -1.1460548639297485\n"
     ]
    },
    {
     "name": "stderr",
     "output_type": "stream",
     "text": [
      "\n",
      "train (loss=1.15152): 100%|██████████| 1054/1054 [02:07<00:00,  8.27it/s]\n",
      "val: 100%|██████████| 118/118 [00:03<00:00, 31.52it/s]"
     ]
    },
    {
     "name": "stdout",
     "output_type": "stream",
     "text": [
      "[20:08:09] Epoch: 2, train loss: 1.151515245437622, val loss: 1.1430119276046753, val metric: -1.1429815292358398\n"
     ]
    },
    {
     "name": "stderr",
     "output_type": "stream",
     "text": [
      "\n",
      "train (loss=1.14781): 100%|██████████| 1054/1054 [02:08<00:00,  8.22it/s]\n",
      "val: 100%|██████████| 118/118 [00:05<00:00, 22.90it/s]\n"
     ]
    },
    {
     "name": "stdout",
     "output_type": "stream",
     "text": [
      "[20:10:22] Epoch: 3, train loss: 1.1478126049041748, val loss: 1.1396034955978394, val metric: -1.13956880569458\n"
     ]
    },
    {
     "name": "stderr",
     "output_type": "stream",
     "text": [
      "train (loss=1.14478): 100%|██████████| 1054/1054 [02:04<00:00,  8.50it/s]\n",
      "val: 100%|██████████| 118/118 [00:05<00:00, 21.60it/s]"
     ]
    },
    {
     "name": "stdout",
     "output_type": "stream",
     "text": [
      "[20:12:32] Epoch: 4, train loss: 1.1447830200195312, val loss: 1.1353205442428589, val metric: -1.1353347301483154\n"
     ]
    },
    {
     "name": "stderr",
     "output_type": "stream",
     "text": [
      "\n",
      "train (loss=1.14182): 100%|██████████| 1054/1054 [02:08<00:00,  8.21it/s]\n",
      "val: 100%|██████████| 118/118 [00:03<00:00, 32.54it/s]"
     ]
    },
    {
     "name": "stdout",
     "output_type": "stream",
     "text": [
      "[20:14:44] Epoch: 5, train loss: 1.1418192386627197, val loss: 1.132682204246521, val metric: -1.1326446533203125\n"
     ]
    },
    {
     "name": "stderr",
     "output_type": "stream",
     "text": [
      "\n",
      "train (loss=1.13985): 100%|██████████| 1054/1054 [02:05<00:00,  8.38it/s]\n",
      "val: 100%|██████████| 118/118 [00:03<00:00, 33.42it/s]\n"
     ]
    },
    {
     "name": "stdout",
     "output_type": "stream",
     "text": [
      "[20:16:53] Epoch: 6, train loss: 1.1398462057113647, val loss: 1.1300173997879028, val metric: -1.1299313306808472\n"
     ]
    },
    {
     "name": "stderr",
     "output_type": "stream",
     "text": [
      "train (loss=1.13838): 100%|██████████| 1054/1054 [02:00<00:00,  8.77it/s]\n",
      "val: 100%|██████████| 118/118 [00:03<00:00, 32.95it/s]"
     ]
    },
    {
     "name": "stdout",
     "output_type": "stream",
     "text": [
      "[20:18:57] Epoch: 7, train loss: 1.1383832693099976, val loss: 1.1292724609375, val metric: -1.1292448043823242\n"
     ]
    },
    {
     "name": "stderr",
     "output_type": "stream",
     "text": [
      "\n",
      "train (loss=1.13732): 100%|██████████| 1054/1054 [02:04<00:00,  8.44it/s]\n",
      "val: 100%|██████████| 118/118 [00:03<00:00, 33.47it/s]"
     ]
    },
    {
     "name": "stdout",
     "output_type": "stream",
     "text": [
      "[20:21:05] Epoch: 8, train loss: 1.1373189687728882, val loss: 1.1291810274124146, val metric: -1.1290576457977295\n"
     ]
    },
    {
     "name": "stderr",
     "output_type": "stream",
     "text": [
      "\n",
      "train (loss=1.1362): 100%|██████████| 1054/1054 [02:05<00:00,  8.40it/s]\n",
      "val: 100%|██████████| 118/118 [00:03<00:00, 32.92it/s]"
     ]
    },
    {
     "name": "stdout",
     "output_type": "stream",
     "text": [
      "[20:23:15] Epoch: 9, train loss: 1.1361953020095825, val loss: 1.1268372535705566, val metric: -1.1267201900482178\n"
     ]
    },
    {
     "name": "stderr",
     "output_type": "stream",
     "text": [
      "\n",
      "val: 100%|██████████| 118/118 [00:03<00:00, 32.45it/s]"
     ]
    },
    {
     "name": "stdout",
     "output_type": "stream",
     "text": [
      "[20:23:18] Early stopping: val loss: 1.1269844770431519, val metric: -1.1268706321716309\n"
     ]
    },
    {
     "name": "stderr",
     "output_type": "stream",
     "text": [
      "\n"
     ]
    },
    {
     "name": "stdout",
     "output_type": "stream",
     "text": [
      "[20:23:19] ===== Start working with \u001b[1mfold 6\u001b[0m for \u001b[1mLvl_0_Pipe_0_Mod_0_TorchNN_mlp_0\u001b[0m =====\n"
     ]
    },
    {
     "name": "stderr",
     "output_type": "stream",
     "text": [
      "train (loss=1.17071): 100%|██████████| 1054/1054 [02:05<00:00,  8.37it/s]\n",
      "val: 100%|██████████| 118/118 [00:03<00:00, 32.95it/s]"
     ]
    },
    {
     "name": "stdout",
     "output_type": "stream",
     "text": [
      "[20:25:28] Epoch: 0, train loss: 1.1707063913345337, val loss: 1.1525156497955322, val metric: -1.1523410081863403\n"
     ]
    },
    {
     "name": "stderr",
     "output_type": "stream",
     "text": [
      "\n",
      "train (loss=1.15616): 100%|██████████| 1054/1054 [02:03<00:00,  8.52it/s]\n",
      "val: 100%|██████████| 118/118 [00:03<00:00, 32.38it/s]"
     ]
    },
    {
     "name": "stdout",
     "output_type": "stream",
     "text": [
      "[20:27:36] Epoch: 1, train loss: 1.1561559438705444, val loss: 1.1458525657653809, val metric: -1.1457619667053223\n"
     ]
    },
    {
     "name": "stderr",
     "output_type": "stream",
     "text": [
      "\n",
      "train (loss=1.15114): 100%|██████████| 1054/1054 [01:58<00:00,  8.90it/s]\n",
      "val: 100%|██████████| 118/118 [00:12<00:00,  9.53it/s]"
     ]
    },
    {
     "name": "stdout",
     "output_type": "stream",
     "text": [
      "[20:29:47] Epoch: 2, train loss: 1.1511390209197998, val loss: 1.14069402217865, val metric: -1.1404794454574585\n"
     ]
    },
    {
     "name": "stderr",
     "output_type": "stream",
     "text": [
      "\n",
      "train (loss=1.14798): 100%|██████████| 1054/1054 [02:01<00:00,  8.70it/s]\n",
      "val: 100%|██████████| 118/118 [00:03<00:00, 30.54it/s]"
     ]
    },
    {
     "name": "stdout",
     "output_type": "stream",
     "text": [
      "[20:31:52] Epoch: 3, train loss: 1.1479815244674683, val loss: 1.138999342918396, val metric: -1.1388345956802368\n"
     ]
    },
    {
     "name": "stderr",
     "output_type": "stream",
     "text": [
      "\n",
      "train (loss=1.1449): 100%|██████████| 1054/1054 [02:08<00:00,  8.19it/s]\n",
      "val: 100%|██████████| 118/118 [00:03<00:00, 31.39it/s]"
     ]
    },
    {
     "name": "stdout",
     "output_type": "stream",
     "text": [
      "[20:34:04] Epoch: 4, train loss: 1.1448997259140015, val loss: 1.1341131925582886, val metric: -1.1338218450546265\n"
     ]
    },
    {
     "name": "stderr",
     "output_type": "stream",
     "text": [
      "\n",
      "train (loss=1.14212): 100%|██████████| 1054/1054 [02:16<00:00,  7.74it/s]\n",
      "val: 100%|██████████| 118/118 [00:03<00:00, 31.72it/s]"
     ]
    },
    {
     "name": "stdout",
     "output_type": "stream",
     "text": [
      "[20:36:24] Epoch: 5, train loss: 1.1421241760253906, val loss: 1.130542516708374, val metric: -1.1303014755249023\n"
     ]
    },
    {
     "name": "stderr",
     "output_type": "stream",
     "text": [
      "\n",
      "train (loss=1.13947): 100%|██████████| 1054/1054 [02:06<00:00,  8.32it/s]\n",
      "val: 100%|██████████| 118/118 [00:05<00:00, 23.58it/s]"
     ]
    },
    {
     "name": "stdout",
     "output_type": "stream",
     "text": [
      "[20:38:36] Epoch: 6, train loss: 1.139466404914856, val loss: 1.1289361715316772, val metric: -1.1285635232925415\n"
     ]
    },
    {
     "name": "stderr",
     "output_type": "stream",
     "text": [
      "\n",
      "train (loss=1.1369): 100%|██████████| 1054/1054 [02:08<00:00,  8.19it/s]\n",
      "val: 100%|██████████| 118/118 [00:03<00:00, 31.70it/s]"
     ]
    },
    {
     "name": "stdout",
     "output_type": "stream",
     "text": [
      "[20:40:48] Epoch: 7, train loss: 1.1368952989578247, val loss: 1.1254466772079468, val metric: -1.1252059936523438\n"
     ]
    },
    {
     "name": "stderr",
     "output_type": "stream",
     "text": [
      "\n",
      "train (loss=1.13507): 100%|██████████| 1054/1054 [02:11<00:00,  8.01it/s]\n",
      "val: 100%|██████████| 118/118 [00:03<00:00, 30.62it/s]"
     ]
    },
    {
     "name": "stdout",
     "output_type": "stream",
     "text": [
      "[20:43:04] Epoch: 8, train loss: 1.135067105293274, val loss: 1.1228375434875488, val metric: -1.1224664449691772\n"
     ]
    },
    {
     "name": "stderr",
     "output_type": "stream",
     "text": [
      "\n",
      "train (loss=1.13315): 100%|██████████| 1054/1054 [02:03<00:00,  8.56it/s]\n",
      "val: 100%|██████████| 118/118 [00:13<00:00,  8.99it/s]"
     ]
    },
    {
     "name": "stdout",
     "output_type": "stream",
     "text": [
      "[20:45:20] Epoch: 9, train loss: 1.1331539154052734, val loss: 1.1224005222320557, val metric: -1.1219894886016846\n"
     ]
    },
    {
     "name": "stderr",
     "output_type": "stream",
     "text": [
      "\n",
      "val: 100%|██████████| 118/118 [00:03<00:00, 31.06it/s]"
     ]
    },
    {
     "name": "stdout",
     "output_type": "stream",
     "text": [
      "[20:45:24] Early stopping: val loss: 1.1211609840393066, val metric: -1.1207706928253174\n"
     ]
    },
    {
     "name": "stderr",
     "output_type": "stream",
     "text": [
      "\n"
     ]
    },
    {
     "name": "stdout",
     "output_type": "stream",
     "text": [
      "[20:45:24] ===== Start working with \u001b[1mfold 7\u001b[0m for \u001b[1mLvl_0_Pipe_0_Mod_0_TorchNN_mlp_0\u001b[0m =====\n"
     ]
    },
    {
     "name": "stderr",
     "output_type": "stream",
     "text": [
      "train (loss=1.16984): 100%|██████████| 1054/1054 [02:01<00:00,  8.66it/s]\n",
      "val: 100%|██████████| 118/118 [00:04<00:00, 29.24it/s]"
     ]
    },
    {
     "name": "stdout",
     "output_type": "stream",
     "text": [
      "[20:47:30] Epoch: 0, train loss: 1.1698437929153442, val loss: 1.1556353569030762, val metric: -1.1568676233291626\n"
     ]
    },
    {
     "name": "stderr",
     "output_type": "stream",
     "text": [
      "\n",
      "train (loss=1.15505): 100%|██████████| 1054/1054 [02:12<00:00,  7.94it/s]\n",
      "val: 100%|██████████| 118/118 [00:05<00:00, 22.69it/s]"
     ]
    },
    {
     "name": "stdout",
     "output_type": "stream",
     "text": [
      "[20:49:48] Epoch: 1, train loss: 1.1550527811050415, val loss: 1.1497682332992554, val metric: -1.1510088443756104\n"
     ]
    },
    {
     "name": "stderr",
     "output_type": "stream",
     "text": [
      "\n",
      "train (loss=1.1506): 100%|██████████| 1054/1054 [02:09<00:00,  8.12it/s]\n",
      "val: 100%|██████████| 118/118 [00:03<00:00, 31.58it/s]\n"
     ]
    },
    {
     "name": "stdout",
     "output_type": "stream",
     "text": [
      "[20:52:02] Epoch: 2, train loss: 1.1505974531173706, val loss: 1.1445682048797607, val metric: -1.1458622217178345\n"
     ]
    },
    {
     "name": "stderr",
     "output_type": "stream",
     "text": [
      "train (loss=1.14716): 100%|██████████| 1054/1054 [02:08<00:00,  8.19it/s]\n",
      "val: 100%|██████████| 118/118 [00:03<00:00, 33.65it/s]"
     ]
    },
    {
     "name": "stdout",
     "output_type": "stream",
     "text": [
      "[20:54:14] Epoch: 3, train loss: 1.1471600532531738, val loss: 1.1409943103790283, val metric: -1.1423935890197754\n"
     ]
    },
    {
     "name": "stderr",
     "output_type": "stream",
     "text": [
      "\n",
      "train (loss=1.14346): 100%|██████████| 1054/1054 [02:08<00:00,  8.20it/s]\n",
      "val: 100%|██████████| 118/118 [00:03<00:00, 33.81it/s]"
     ]
    },
    {
     "name": "stdout",
     "output_type": "stream",
     "text": [
      "[20:56:26] Epoch: 4, train loss: 1.1434569358825684, val loss: 1.1371384859085083, val metric: -1.138501524925232\n"
     ]
    },
    {
     "name": "stderr",
     "output_type": "stream",
     "text": [
      "\n",
      "train (loss=1.14088): 100%|██████████| 1054/1054 [01:56<00:00,  9.02it/s]\n",
      "val: 100%|██████████| 118/118 [00:03<00:00, 33.73it/s]"
     ]
    },
    {
     "name": "stdout",
     "output_type": "stream",
     "text": [
      "[20:58:27] Epoch: 5, train loss: 1.1408761739730835, val loss: 1.1331640481948853, val metric: -1.1346715688705444\n"
     ]
    },
    {
     "name": "stderr",
     "output_type": "stream",
     "text": [
      "\n",
      "train (loss=1.13843): 100%|██████████| 1054/1054 [02:07<00:00,  8.28it/s]\n",
      "val: 100%|██████████| 118/118 [00:03<00:00, 32.69it/s]"
     ]
    },
    {
     "name": "stdout",
     "output_type": "stream",
     "text": [
      "[21:00:37] Epoch: 6, train loss: 1.1384297609329224, val loss: 1.1296433210372925, val metric: -1.13113534450531\n"
     ]
    },
    {
     "name": "stderr",
     "output_type": "stream",
     "text": [
      "\n",
      "train (loss=1.13639): 100%|██████████| 1054/1054 [02:18<00:00,  7.63it/s]\n",
      "val: 100%|██████████| 118/118 [00:03<00:00, 31.65it/s]"
     ]
    },
    {
     "name": "stdout",
     "output_type": "stream",
     "text": [
      "[21:02:59] Epoch: 7, train loss: 1.1363916397094727, val loss: 1.1278033256530762, val metric: -1.1292736530303955\n"
     ]
    },
    {
     "name": "stderr",
     "output_type": "stream",
     "text": [
      "\n",
      "train (loss=1.13513): 100%|██████████| 1054/1054 [02:18<00:00,  7.61it/s]\n",
      "val: 100%|██████████| 118/118 [00:03<00:00, 29.69it/s]"
     ]
    },
    {
     "name": "stdout",
     "output_type": "stream",
     "text": [
      "[21:05:22] Epoch: 8, train loss: 1.1351289749145508, val loss: 1.125290870666504, val metric: -1.1267913579940796\n"
     ]
    },
    {
     "name": "stderr",
     "output_type": "stream",
     "text": [
      "\n",
      "train (loss=1.13411): 100%|██████████| 1054/1054 [02:16<00:00,  7.73it/s]\n",
      "val: 100%|██████████| 118/118 [00:03<00:00, 30.74it/s]"
     ]
    },
    {
     "name": "stdout",
     "output_type": "stream",
     "text": [
      "[21:07:42] Epoch: 9, train loss: 1.1341112852096558, val loss: 1.1250566244125366, val metric: -1.1266237497329712\n"
     ]
    },
    {
     "name": "stderr",
     "output_type": "stream",
     "text": [
      "\n",
      "val: 100%|██████████| 118/118 [00:03<00:00, 31.42it/s]"
     ]
    },
    {
     "name": "stdout",
     "output_type": "stream",
     "text": [
      "[21:07:46] Early stopping: val loss: 1.1240500211715698, val metric: -1.1255770921707153\n"
     ]
    },
    {
     "name": "stderr",
     "output_type": "stream",
     "text": [
      "\n"
     ]
    },
    {
     "name": "stdout",
     "output_type": "stream",
     "text": [
      "[21:07:46] ===== Start working with \u001b[1mfold 8\u001b[0m for \u001b[1mLvl_0_Pipe_0_Mod_0_TorchNN_mlp_0\u001b[0m =====\n"
     ]
    },
    {
     "name": "stderr",
     "output_type": "stream",
     "text": [
      "train (loss=1.17164): 100%|██████████| 1054/1054 [02:15<00:00,  7.76it/s]\n",
      "val: 100%|██████████| 118/118 [00:03<00:00, 32.17it/s]"
     ]
    },
    {
     "name": "stdout",
     "output_type": "stream",
     "text": [
      "[21:10:06] Epoch: 0, train loss: 1.1716384887695312, val loss: 1.14659583568573, val metric: -1.1477501392364502\n"
     ]
    },
    {
     "name": "stderr",
     "output_type": "stream",
     "text": [
      "\n",
      "train (loss=1.15737): 100%|██████████| 1054/1054 [01:59<00:00,  8.80it/s]\n",
      "val: 100%|██████████| 118/118 [00:05<00:00, 22.21it/s]"
     ]
    },
    {
     "name": "stdout",
     "output_type": "stream",
     "text": [
      "[21:12:11] Epoch: 1, train loss: 1.1573741436004639, val loss: 1.140134334564209, val metric: -1.141310214996338\n"
     ]
    },
    {
     "name": "stderr",
     "output_type": "stream",
     "text": [
      "\n",
      "train (loss=1.15303): 100%|██████████| 1054/1054 [02:01<00:00,  8.65it/s]\n",
      "val: 100%|██████████| 118/118 [00:05<00:00, 22.67it/s]"
     ]
    },
    {
     "name": "stdout",
     "output_type": "stream",
     "text": [
      "[21:14:18] Epoch: 2, train loss: 1.1530262231826782, val loss: 1.1381206512451172, val metric: -1.1391973495483398\n"
     ]
    },
    {
     "name": "stderr",
     "output_type": "stream",
     "text": [
      "\n",
      "train (loss=1.14871): 100%|██████████| 1054/1054 [01:59<00:00,  8.80it/s]\n",
      "val: 100%|██████████| 118/118 [00:03<00:00, 31.36it/s]"
     ]
    },
    {
     "name": "stdout",
     "output_type": "stream",
     "text": [
      "[21:16:22] Epoch: 3, train loss: 1.1487096548080444, val loss: 1.1328061819076538, val metric: -1.1340497732162476\n"
     ]
    },
    {
     "name": "stderr",
     "output_type": "stream",
     "text": [
      "\n",
      "train (loss=1.14613): 100%|██████████| 1054/1054 [02:03<00:00,  8.50it/s]\n",
      "val: 100%|██████████| 118/118 [00:03<00:00, 31.53it/s]"
     ]
    },
    {
     "name": "stdout",
     "output_type": "stream",
     "text": [
      "[21:18:30] Epoch: 4, train loss: 1.1461331844329834, val loss: 1.1284396648406982, val metric: -1.1296292543411255\n"
     ]
    },
    {
     "name": "stderr",
     "output_type": "stream",
     "text": [
      "\n",
      "train (loss=1.14387): 100%|██████████| 1054/1054 [02:01<00:00,  8.66it/s]\n",
      "val: 100%|██████████| 118/118 [00:03<00:00, 33.03it/s]\n"
     ]
    },
    {
     "name": "stdout",
     "output_type": "stream",
     "text": [
      "[21:20:35] Epoch: 5, train loss: 1.1438740491867065, val loss: 1.1278703212738037, val metric: -1.129211187362671\n"
     ]
    },
    {
     "name": "stderr",
     "output_type": "stream",
     "text": [
      "train (loss=1.14215): 100%|██████████| 1054/1054 [02:00<00:00,  8.73it/s]\n",
      "val: 100%|██████████| 118/118 [00:03<00:00, 32.74it/s]\n"
     ]
    },
    {
     "name": "stdout",
     "output_type": "stream",
     "text": [
      "[21:22:40] Epoch: 6, train loss: 1.1421546936035156, val loss: 1.1241960525512695, val metric: -1.1254767179489136\n"
     ]
    },
    {
     "name": "stderr",
     "output_type": "stream",
     "text": [
      "train (loss=1.14066): 100%|██████████| 1054/1054 [01:58<00:00,  8.86it/s]\n",
      "val: 100%|██████████| 118/118 [00:03<00:00, 32.68it/s]"
     ]
    },
    {
     "name": "stdout",
     "output_type": "stream",
     "text": [
      "[21:24:42] Epoch: 7, train loss: 1.1406558752059937, val loss: 1.1221730709075928, val metric: -1.1234073638916016\n"
     ]
    },
    {
     "name": "stderr",
     "output_type": "stream",
     "text": [
      "\n",
      "train (loss=1.13922): 100%|██████████| 1054/1054 [01:47<00:00,  9.77it/s]\n",
      "val: 100%|██████████| 118/118 [00:04<00:00, 23.68it/s]"
     ]
    },
    {
     "name": "stdout",
     "output_type": "stream",
     "text": [
      "[21:26:35] Epoch: 8, train loss: 1.1392171382904053, val loss: 1.1226080656051636, val metric: -1.1238819360733032\n"
     ]
    },
    {
     "name": "stderr",
     "output_type": "stream",
     "text": [
      "\n",
      "train (loss=1.13809): 100%|██████████| 1054/1054 [02:01<00:00,  8.66it/s]\n",
      "val: 100%|██████████| 118/118 [00:05<00:00, 22.35it/s]"
     ]
    },
    {
     "name": "stdout",
     "output_type": "stream",
     "text": [
      "[21:28:42] Epoch: 9, train loss: 1.1380894184112549, val loss: 1.1204038858413696, val metric: -1.1216747760772705\n"
     ]
    },
    {
     "name": "stderr",
     "output_type": "stream",
     "text": [
      "\n",
      "val: 100%|██████████| 118/118 [00:03<00:00, 31.43it/s]"
     ]
    },
    {
     "name": "stdout",
     "output_type": "stream",
     "text": [
      "[21:28:46] Early stopping: val loss: 1.1201523542404175, val metric: -1.121435523033142\n"
     ]
    },
    {
     "name": "stderr",
     "output_type": "stream",
     "text": [
      "\n"
     ]
    },
    {
     "name": "stdout",
     "output_type": "stream",
     "text": [
      "[21:28:46] ===== Start working with \u001b[1mfold 9\u001b[0m for \u001b[1mLvl_0_Pipe_0_Mod_0_TorchNN_mlp_0\u001b[0m =====\n"
     ]
    },
    {
     "name": "stderr",
     "output_type": "stream",
     "text": [
      "train (loss=1.16988): 100%|██████████| 1054/1054 [02:01<00:00,  8.70it/s]\n",
      "val: 100%|██████████| 118/118 [00:03<00:00, 32.36it/s]"
     ]
    },
    {
     "name": "stdout",
     "output_type": "stream",
     "text": [
      "[21:30:52] Epoch: 0, train loss: 1.1698764562606812, val loss: 1.1671921014785767, val metric: -1.1672056913375854\n"
     ]
    },
    {
     "name": "stderr",
     "output_type": "stream",
     "text": [
      "\n",
      "train (loss=1.15485): 100%|██████████| 1054/1054 [01:58<00:00,  8.90it/s]\n",
      "val: 100%|██████████| 118/118 [00:05<00:00, 22.48it/s]"
     ]
    },
    {
     "name": "stdout",
     "output_type": "stream",
     "text": [
      "[21:32:55] Epoch: 1, train loss: 1.154848337173462, val loss: 1.160395860671997, val metric: -1.1604465246200562\n"
     ]
    },
    {
     "name": "stderr",
     "output_type": "stream",
     "text": [
      "\n",
      "train (loss=1.1496): 100%|██████████| 1054/1054 [02:02<00:00,  8.61it/s]\n",
      "val: 100%|██████████| 118/118 [00:04<00:00, 28.80it/s]"
     ]
    },
    {
     "name": "stdout",
     "output_type": "stream",
     "text": [
      "[21:35:02] Epoch: 2, train loss: 1.149603247642517, val loss: 1.1534450054168701, val metric: -1.153481125831604\n"
     ]
    },
    {
     "name": "stderr",
     "output_type": "stream",
     "text": [
      "\n",
      "train (loss=1.14556): 100%|██████████| 1054/1054 [02:09<00:00,  8.17it/s]\n",
      "val: 100%|██████████| 118/118 [00:03<00:00, 31.29it/s]"
     ]
    },
    {
     "name": "stdout",
     "output_type": "stream",
     "text": [
      "[21:37:15] Epoch: 3, train loss: 1.145557165145874, val loss: 1.1497999429702759, val metric: -1.1499311923980713\n"
     ]
    },
    {
     "name": "stderr",
     "output_type": "stream",
     "text": [
      "\n",
      "train (loss=1.14218): 100%|██████████| 1054/1054 [02:06<00:00,  8.32it/s]\n",
      "val: 100%|██████████| 118/118 [00:03<00:00, 31.89it/s]"
     ]
    },
    {
     "name": "stdout",
     "output_type": "stream",
     "text": [
      "[21:39:25] Epoch: 4, train loss: 1.1421819925308228, val loss: 1.1470755338668823, val metric: -1.1470690965652466\n"
     ]
    },
    {
     "name": "stderr",
     "output_type": "stream",
     "text": [
      "\n",
      "train (loss=1.13954): 100%|██████████| 1054/1054 [02:08<00:00,  8.23it/s]\n",
      "val: 100%|██████████| 118/118 [00:03<00:00, 31.63it/s]"
     ]
    },
    {
     "name": "stdout",
     "output_type": "stream",
     "text": [
      "[21:41:37] Epoch: 5, train loss: 1.1395400762557983, val loss: 1.1421467065811157, val metric: -1.1421853303909302\n"
     ]
    },
    {
     "name": "stderr",
     "output_type": "stream",
     "text": [
      "\n",
      "train (loss=1.1382): 100%|██████████| 1054/1054 [02:10<00:00,  8.10it/s]\n",
      "val: 100%|██████████| 118/118 [00:03<00:00, 30.72it/s]"
     ]
    },
    {
     "name": "stdout",
     "output_type": "stream",
     "text": [
      "[21:43:51] Epoch: 6, train loss: 1.1381958723068237, val loss: 1.1404577493667603, val metric: -1.1405400037765503\n"
     ]
    },
    {
     "name": "stderr",
     "output_type": "stream",
     "text": [
      "\n",
      "train (loss=1.13642): 100%|██████████| 1054/1054 [02:09<00:00,  8.15it/s]\n",
      "val: 100%|██████████| 118/118 [00:03<00:00, 29.93it/s]"
     ]
    },
    {
     "name": "stdout",
     "output_type": "stream",
     "text": [
      "[21:46:04] Epoch: 7, train loss: 1.1364178657531738, val loss: 1.1395208835601807, val metric: -1.1396796703338623\n"
     ]
    },
    {
     "name": "stderr",
     "output_type": "stream",
     "text": [
      "\n",
      "train (loss=1.13568): 100%|██████████| 1054/1054 [02:06<00:00,  8.32it/s]\n",
      "val: 100%|██████████| 118/118 [00:03<00:00, 32.19it/s]"
     ]
    },
    {
     "name": "stdout",
     "output_type": "stream",
     "text": [
      "[21:48:14] Epoch: 8, train loss: 1.1356807947158813, val loss: 1.1387836933135986, val metric: -1.138838291168213\n"
     ]
    },
    {
     "name": "stderr",
     "output_type": "stream",
     "text": [
      "\n",
      "train (loss=1.13448): 100%|██████████| 1054/1054 [02:04<00:00,  8.45it/s]\n",
      "val: 100%|██████████| 118/118 [00:03<00:00, 31.84it/s]\n"
     ]
    },
    {
     "name": "stdout",
     "output_type": "stream",
     "text": [
      "[21:50:23] Epoch: 9, train loss: 1.1344821453094482, val loss: 1.1369518041610718, val metric: -1.1370896100997925\n"
     ]
    },
    {
     "name": "stderr",
     "output_type": "stream",
     "text": [
      "val: 100%|██████████| 118/118 [00:03<00:00, 32.80it/s]"
     ]
    },
    {
     "name": "stdout",
     "output_type": "stream",
     "text": [
      "[21:50:27] Early stopping: val loss: 1.137054681777954, val metric: -1.1371445655822754\n"
     ]
    },
    {
     "name": "stderr",
     "output_type": "stream",
     "text": [
      "\n"
     ]
    },
    {
     "name": "stdout",
     "output_type": "stream",
     "text": [
      "[21:50:27] Fitting \u001b[1mLvl_0_Pipe_0_Mod_0_TorchNN_mlp_0\u001b[0m finished. score = \u001b[1m-1.127900059880711\u001b[0m\n",
      "[21:50:27] \u001b[1mLvl_0_Pipe_0_Mod_0_TorchNN_mlp_0\u001b[0m fitting and predicting completed\n",
      "[21:50:27] Time left 19456.87 secs\n",
      "\n",
      "[21:50:27] \u001b[1mLayer 1 training completed.\u001b[0m\n",
      "\n",
      "[21:50:27] \u001b[1mAutoml preset training completed in 12943.13 seconds\u001b[0m\n",
      "\n",
      "[21:50:27] Model description:\n",
      "Final prediction for new objects (level 0) = \n",
      "\t 1.00000 * (10 averaged models Lvl_0_Pipe_0_Mod_0_TorchNN_mlp_0) \n",
      "\n"
     ]
    }
   ],
   "source": [
    "out_of_fold_predictions = automl.fit_predict(\n",
    "    df_train_automl,\n",
    "    roles = {\n",
    "        'target': 'Premium Amount',\n",
    "        'drop': 'id'\n",
    "    }, \n",
    "    verbose = 3\n",
    ")"
   ]
  },
  {
   "cell_type": "code",
   "execution_count": 16,
   "id": "13ff1dce",
   "metadata": {
    "execution": {
     "iopub.execute_input": "2024-12-31T21:50:48.314466Z",
     "iopub.status.busy": "2024-12-31T21:50:48.313689Z",
     "iopub.status.idle": "2024-12-31T21:50:48.325360Z",
     "shell.execute_reply": "2024-12-31T21:50:48.324302Z"
    },
    "papermill": {
     "duration": 10.475463,
     "end_time": "2024-12-31T21:50:48.326901",
     "exception": false,
     "start_time": "2024-12-31T21:50:37.851438",
     "status": "completed"
    },
    "tags": []
   },
   "outputs": [
    {
     "name": "stdout",
     "output_type": "stream",
     "text": [
      "OOF score: 1.127900059880711\n"
     ]
    }
   ],
   "source": [
    "from sklearn.metrics import mean_squared_error\n",
    "print(f'OOF score: {mean_squared_error(df_train_automl[TARGET].values, out_of_fold_predictions.data[:, 0])}') #1.1702855470203595"
   ]
  },
  {
   "cell_type": "markdown",
   "id": "a6e06ea5",
   "metadata": {
    "papermill": {
     "duration": 10.311109,
     "end_time": "2024-12-31T21:51:08.895295",
     "exception": false,
     "start_time": "2024-12-31T21:50:58.584186",
     "status": "completed"
    },
    "tags": []
   },
   "source": [
    "## Prediction"
   ]
  },
  {
   "cell_type": "code",
   "execution_count": 17,
   "id": "567bc0cb",
   "metadata": {
    "execution": {
     "iopub.execute_input": "2024-12-31T21:51:29.554865Z",
     "iopub.status.busy": "2024-12-31T21:51:29.554505Z",
     "iopub.status.idle": "2024-12-31T21:54:26.893284Z",
     "shell.execute_reply": "2024-12-31T21:54:26.892428Z"
    },
    "papermill": {
     "duration": 187.594797,
     "end_time": "2024-12-31T21:54:26.894959",
     "exception": false,
     "start_time": "2024-12-31T21:51:19.300162",
     "status": "completed"
    },
    "tags": []
   },
   "outputs": [
    {
     "name": "stderr",
     "output_type": "stream",
     "text": [
      "test: 100%|██████████| 782/782 [00:15<00:00, 49.58it/s]\n",
      "test: 100%|██████████| 782/782 [00:14<00:00, 53.54it/s]\n",
      "test: 100%|██████████| 782/782 [00:16<00:00, 47.36it/s]\n",
      "test: 100%|██████████| 782/782 [00:15<00:00, 51.85it/s]\n",
      "test: 100%|██████████| 782/782 [00:16<00:00, 47.97it/s]\n",
      "test: 100%|██████████| 782/782 [00:14<00:00, 53.74it/s]\n",
      "test: 100%|██████████| 782/782 [00:16<00:00, 48.68it/s]\n",
      "test: 100%|██████████| 782/782 [00:29<00:00, 26.85it/s]\n",
      "test: 100%|██████████| 782/782 [00:14<00:00, 52.45it/s]\n",
      "test: 100%|██████████| 782/782 [00:16<00:00, 47.24it/s]\n"
     ]
    }
   ],
   "source": [
    "y_test_automl = automl.predict(df_test_processed).data[:, 0]\n",
    "y_test_automl = np.expm1(y_test_automl)"
   ]
  },
  {
   "cell_type": "markdown",
   "id": "29c074c1",
   "metadata": {
    "papermill": {
     "duration": 10.36753,
     "end_time": "2024-12-31T21:54:47.566008",
     "exception": false,
     "start_time": "2024-12-31T21:54:37.198478",
     "status": "completed"
    },
    "tags": []
   },
   "source": [
    "## Ensemble"
   ]
  },
  {
   "cell_type": "code",
   "execution_count": 18,
   "id": "eaf4c156",
   "metadata": {
    "execution": {
     "iopub.execute_input": "2024-12-31T21:55:08.424916Z",
     "iopub.status.busy": "2024-12-31T21:55:08.424562Z",
     "iopub.status.idle": "2024-12-31T21:55:09.813838Z",
     "shell.execute_reply": "2024-12-31T21:55:09.813037Z"
    },
    "papermill": {
     "duration": 11.72384,
     "end_time": "2024-12-31T21:55:09.815454",
     "exception": false,
     "start_time": "2024-12-31T21:54:58.091614",
     "status": "completed"
    },
    "tags": []
   },
   "outputs": [],
   "source": [
    "y_sub_1 = pd.read_csv('/kaggle/input/rid-train-h2o/submission.csv')\n",
    "y_sub_2 = pd.read_csv('/kaggle/input/p04e12-blended-submission/submission.csv')\n",
    "y_sub_3 = pd.read_csv('/kaggle/input/push-the-limit-of-blended-submission/submission.csv')"
   ]
  },
  {
   "cell_type": "code",
   "execution_count": 19,
   "id": "21de66f1",
   "metadata": {
    "execution": {
     "iopub.execute_input": "2024-12-31T21:55:30.704885Z",
     "iopub.status.busy": "2024-12-31T21:55:30.704542Z",
     "iopub.status.idle": "2024-12-31T21:55:30.724177Z",
     "shell.execute_reply": "2024-12-31T21:55:30.723251Z"
    },
    "papermill": {
     "duration": 10.524281,
     "end_time": "2024-12-31T21:55:30.725872",
     "exception": false,
     "start_time": "2024-12-31T21:55:20.201591",
     "status": "completed"
    },
    "tags": []
   },
   "outputs": [],
   "source": [
    "y_test_ensemble = y_sub_1.copy()\n",
    "y_test_ensemble['Premium Amount'] = (\n",
    "    (0/10) * y_sub_1['Premium Amount'] +\n",
    "    (0/10) * y_sub_2['Premium Amount'] +\n",
    "    (0/10) * y_sub_3['Premium Amount'] +\n",
    "    (10/10) * y_test_automl\n",
    ")"
   ]
  },
  {
   "cell_type": "markdown",
   "id": "5903d319",
   "metadata": {
    "papermill": {
     "duration": 10.40032,
     "end_time": "2024-12-31T21:55:51.607858",
     "exception": false,
     "start_time": "2024-12-31T21:55:41.207538",
     "status": "completed"
    },
    "tags": []
   },
   "source": [
    "## Submission"
   ]
  },
  {
   "cell_type": "code",
   "execution_count": 20,
   "id": "a6c61efa",
   "metadata": {
    "execution": {
     "iopub.execute_input": "2024-12-31T21:56:12.693926Z",
     "iopub.status.busy": "2024-12-31T21:56:12.693534Z",
     "iopub.status.idle": "2024-12-31T21:56:14.544186Z",
     "shell.execute_reply": "2024-12-31T21:56:14.543192Z"
    },
    "papermill": {
     "duration": 12.392398,
     "end_time": "2024-12-31T21:56:14.545866",
     "exception": false,
     "start_time": "2024-12-31T21:56:02.153468",
     "status": "completed"
    },
    "tags": []
   },
   "outputs": [
    {
     "data": {
      "text/html": [
       "<div>\n",
       "<style scoped>\n",
       "    .dataframe tbody tr th:only-of-type {\n",
       "        vertical-align: middle;\n",
       "    }\n",
       "\n",
       "    .dataframe tbody tr th {\n",
       "        vertical-align: top;\n",
       "    }\n",
       "\n",
       "    .dataframe thead th {\n",
       "        text-align: right;\n",
       "    }\n",
       "</style>\n",
       "<table border=\"1\" class=\"dataframe\">\n",
       "  <thead>\n",
       "    <tr style=\"text-align: right;\">\n",
       "      <th></th>\n",
       "      <th>id</th>\n",
       "      <th>Premium Amount</th>\n",
       "    </tr>\n",
       "  </thead>\n",
       "  <tbody>\n",
       "    <tr>\n",
       "      <th>0</th>\n",
       "      <td>1200000</td>\n",
       "      <td>858.637451</td>\n",
       "    </tr>\n",
       "    <tr>\n",
       "      <th>1</th>\n",
       "      <td>1200001</td>\n",
       "      <td>788.305969</td>\n",
       "    </tr>\n",
       "    <tr>\n",
       "      <th>2</th>\n",
       "      <td>1200002</td>\n",
       "      <td>823.157532</td>\n",
       "    </tr>\n",
       "    <tr>\n",
       "      <th>3</th>\n",
       "      <td>1200003</td>\n",
       "      <td>793.706055</td>\n",
       "    </tr>\n",
       "    <tr>\n",
       "      <th>4</th>\n",
       "      <td>1200004</td>\n",
       "      <td>752.611145</td>\n",
       "    </tr>\n",
       "  </tbody>\n",
       "</table>\n",
       "</div>"
      ],
      "text/plain": [
       "        id  Premium Amount\n",
       "0  1200000      858.637451\n",
       "1  1200001      788.305969\n",
       "2  1200002      823.157532\n",
       "3  1200003      793.706055\n",
       "4  1200004      752.611145"
      ]
     },
     "execution_count": 20,
     "metadata": {},
     "output_type": "execute_result"
    }
   ],
   "source": [
    "df_sub = pd.read_csv('/kaggle/input/playground-series-s4e12/sample_submission.csv')\n",
    "df_sub['Premium Amount'] = y_test_ensemble['Premium Amount']\n",
    "df_sub.to_csv('submission_automl.csv', index=False)\n",
    "df_sub.head()"
   ]
  },
  {
   "cell_type": "code",
   "execution_count": null,
   "id": "62ddbbf2",
   "metadata": {
    "papermill": {
     "duration": 10.336737,
     "end_time": "2024-12-31T21:56:35.298350",
     "exception": false,
     "start_time": "2024-12-31T21:56:24.961613",
     "status": "completed"
    },
    "tags": []
   },
   "outputs": [],
   "source": []
  }
 ],
 "metadata": {
  "kaggle": {
   "accelerator": "none",
   "dataSources": [
    {
     "databundleVersionId": 10305135,
     "sourceId": 84896,
     "sourceType": "competition"
    },
    {
     "sourceId": 211282696,
     "sourceType": "kernelVersion"
    },
    {
     "sourceId": 211629801,
     "sourceType": "kernelVersion"
    },
    {
     "sourceId": 212785528,
     "sourceType": "kernelVersion"
    }
   ],
   "dockerImageVersionId": 30822,
   "isGpuEnabled": false,
   "isInternetEnabled": true,
   "language": "python",
   "sourceType": "notebook"
  },
  "kernelspec": {
   "display_name": "Python 3",
   "language": "python",
   "name": "python3"
  },
  "language_info": {
   "codemirror_mode": {
    "name": "ipython",
    "version": 3
   },
   "file_extension": ".py",
   "mimetype": "text/x-python",
   "name": "python",
   "nbconvert_exporter": "python",
   "pygments_lexer": "ipython3",
   "version": "3.10.12"
  },
  "papermill": {
   "default_parameters": {},
   "duration": 13397.157137,
   "end_time": "2024-12-31T21:56:48.457630",
   "environment_variables": {},
   "exception": null,
   "input_path": "__notebook__.ipynb",
   "output_path": "__notebook__.ipynb",
   "parameters": {},
   "start_time": "2024-12-31T18:13:31.300493",
   "version": "2.6.0"
  }
 },
 "nbformat": 4,
 "nbformat_minor": 5
}
